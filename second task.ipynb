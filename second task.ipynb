{
 "cells": [
  {
   "cell_type": "code",
   "execution_count": 1,
   "id": "23ec3952",
   "metadata": {},
   "outputs": [],
   "source": [
    "import pandas as pd\n",
    "import numpy as np\n",
    "import plotly.express as px\n",
    "\n",
    "kuka_output = pd.read_excel('KukaOutput-ICNAP.xlsx', engine='openpyxl')\n",
    "kuka_output['EndDate'] = pd.to_datetime(kuka_output['EndDate'])\n",
    "t0 = kuka_output['EndDate'].iloc[0]\n",
    "kuka_output['EndDate min'] = (kuka_output['EndDate'] - t0).astype('timedelta64[m]')\n",
    "programs = pd.read_excel('OvenPrograms-ICNAP.xlsx', engine='openpyxl')"
   ]
  },
  {
   "cell_type": "code",
   "execution_count": 37,
   "id": "67524dde",
   "metadata": {},
   "outputs": [],
   "source": [
    "class Oven:\n",
    "    def __init__(self, index, finish_time=0, temp=0, rotor_list=[]):\n",
    "        self.index = index\n",
    "        self.finish_time = finish_time\n",
    "        self.temp = temp\n",
    "        self.rotor_list = rotor_list\n",
    "    \n",
    "    def get_time_per_product(self, time_available, duration, l):\n",
    "        if time_available > self.finish_time:\n",
    "            return time_available + (duration/l)\n",
    "        return self.finish_time + (duration/l)\n",
    "\n",
    "    def get_enter_time(self, time_available):\n",
    "        if time_available > self.finish_time:\n",
    "            return time_available\n",
    "        return self.finish_time\n",
    "    \n",
    "    def dif_temperature(self, target_temp):\n",
    "        return target_temp-self.temp\n",
    "    \n",
    "    def add_rotor(self, time_available, duration, cold_temp, index):\n",
    "        self.temp = cold_temp\n",
    "        self.rotor_list.append(index)\n",
    "        if time_available > self.finish_time:\n",
    "            self.finish_time = time_available + duration\n",
    "            \n",
    "        else:\n",
    "            self.finish_time += duration\n",
    "        \n",
    "class Node:\n",
    "    def __init__(self, path, remaining_df, ovens, node_dict):\n",
    "        self.path = path\n",
    "        self.remaining_df = remaining_df\n",
    "        self.ovens = ovens\n",
    "        self.node_dict = node_dict\n",
    "        \n",
    "    def get_neighboors(self):\n",
    "        if self.remaining_df.shape[0] > 10:\n",
    "            max_iter = 8\n",
    "        else:\n",
    "            max_iter = self.remaining_df.shape[0]\n",
    "        \n",
    "        ns = [self.get_neighboor(i) for i in range(max_iter)]\n",
    "        return list(filter(lambda n: n['Lambda']<=max_lambda, ns))\n",
    "            \n",
    "    def get_next(self):\n",
    "        neighboors = self.get_neighboors()\n",
    "        best_cost = min([n['MinCost'] for n in neighboors])\n",
    "        next_n_index = [n['MinCost'] for n in neighboors].index(min([n['MinCost'] for n in neighboors]))\n",
    "        return neighboors[next_n_index]\n",
    "    \n",
    "    def get_neighboor(self, index):\n",
    "        n = dict()\n",
    "        n['Product'] = self.remaining_df['Product'].iloc[index]\n",
    "        n['TimeAvailable'] = self.remaining_df['EndDate min'].iloc[index]\n",
    "        n['Duration'] = programs[programs['product type']==n['Product']]['program duration (min)'].values[0] + 60\n",
    "        n['TargetTemp'] = programs[programs['product type']==n['Product']]['target temp (C)'].values[0]\n",
    "        n['CoolTemp'] = programs[programs['product type']==n['Product']]['cooling temp  (C)'].values[0]\n",
    "        df_index = self.remaining_df.iloc[:index+1]\n",
    "        n['Lambda'] = df_index[df_index['Product']==n['Product']].shape[0]\n",
    "        n['ProductIndexes'] = list(df_index[df_index['Product']==n['Product']].index)\n",
    "        n['ProductTimes'] = [oven.get_time_per_product(n['TimeAvailable'], n['Duration'], n['Lambda']) for oven in self.ovens]\n",
    "        n['ProductDifTemps'] = [oven.dif_temperature(n['TargetTemp'])/n['Lambda'] for oven in self.ovens]\n",
    "        n['Costs'] = [self.calculate_cost(n['ProductTimes'][i], n['ProductDifTemps'][i]) for i in range(len(n['ProductTimes']))]\n",
    "        n['MinCost'] = min(n['Costs'])\n",
    "        n['OvenIndex'] = n['Costs'].index(n['MinCost'])\n",
    "        n['EnterTime'] = self.ovens[n['OvenIndex']].get_enter_time(n['TimeAvailable'])\n",
    "        n['DifTemperature'] = self.ovens[n['OvenIndex']].dif_temperature(n['TargetTemp'])\n",
    "        n['TimesAvailables'] = self.remaining_df['EndDate min'].loc[n['ProductIndexes']]\n",
    "        n['WaitingTimes'] = [n['EnterTime']-time for time in n['TimesAvailables']]\n",
    "        n['SumWaitingTime'] = sum(n['WaitingTimes'])\n",
    "        n['MeanWaitingTime'] = sum(n['WaitingTimes'])/len(n['WaitingTimes'])\n",
    "        return n\n",
    "    \n",
    "    def calculate_cost(self, time, temp):\n",
    "        percentage_temp = temp*0.3/291\n",
    "        percentage_time = time*0.7/920\n",
    "        return percentage_temp+percentage_time"
   ]
  },
  {
   "cell_type": "code",
   "execution_count": 38,
   "id": "fd948f78",
   "metadata": {},
   "outputs": [
    {
     "data": {
      "text/html": [
       "<div>\n",
       "<style scoped>\n",
       "    .dataframe tbody tr th:only-of-type {\n",
       "        vertical-align: middle;\n",
       "    }\n",
       "\n",
       "    .dataframe tbody tr th {\n",
       "        vertical-align: top;\n",
       "    }\n",
       "\n",
       "    .dataframe thead th {\n",
       "        text-align: right;\n",
       "    }\n",
       "</style>\n",
       "<table border=\"1\" class=\"dataframe\">\n",
       "  <thead>\n",
       "    <tr style=\"text-align: right;\">\n",
       "      <th></th>\n",
       "      <th>Product</th>\n",
       "      <th>TimeAvailable</th>\n",
       "      <th>Duration</th>\n",
       "      <th>TargetTemp</th>\n",
       "      <th>CoolTemp</th>\n",
       "      <th>Lambda</th>\n",
       "      <th>ProductIndexes</th>\n",
       "      <th>ProductTimes</th>\n",
       "      <th>ProductDifTemps</th>\n",
       "      <th>Costs</th>\n",
       "      <th>...</th>\n",
       "      <th>OvenIndex</th>\n",
       "      <th>EnterTime</th>\n",
       "      <th>DifTemperature</th>\n",
       "      <th>TimesAvailables</th>\n",
       "      <th>WaitingTimes</th>\n",
       "      <th>SumWaitingTime</th>\n",
       "      <th>MeanWaitingTime</th>\n",
       "      <th>JobStart</th>\n",
       "      <th>JobFinish</th>\n",
       "      <th>ProductIndexesText</th>\n",
       "    </tr>\n",
       "  </thead>\n",
       "  <tbody>\n",
       "    <tr>\n",
       "      <th>0</th>\n",
       "      <td>Rotor A3</td>\n",
       "      <td>1.0</td>\n",
       "      <td>450</td>\n",
       "      <td>319.55085</td>\n",
       "      <td>42.60678</td>\n",
       "      <td>2</td>\n",
       "      <td>[0, 1]</td>\n",
       "      <td>[226.0, 226.0, 226.0, 226.0, 226.0, 226.0]</td>\n",
       "      <td>[159.775425, 159.775425, 159.775425, 159.77542...</td>\n",
       "      <td>[0.33667345472882115, 0.33667345472882115, 0.3...</td>\n",
       "      <td>...</td>\n",
       "      <td>0</td>\n",
       "      <td>1.0</td>\n",
       "      <td>319.55085</td>\n",
       "      <td>0    0.0\n",
       "1    1.0\n",
       "Name: EndDate min, dtype: fl...</td>\n",
       "      <td>[1.0, 0.0]</td>\n",
       "      <td>1.0</td>\n",
       "      <td>0.500000</td>\n",
       "      <td>2022-02-01 01:02:47</td>\n",
       "      <td>2022-02-01 08:32:47</td>\n",
       "      <td>[0, 1]</td>\n",
       "    </tr>\n",
       "    <tr>\n",
       "      <th>1</th>\n",
       "      <td>Rotor A3</td>\n",
       "      <td>338.0</td>\n",
       "      <td>450</td>\n",
       "      <td>319.55085</td>\n",
       "      <td>42.60678</td>\n",
       "      <td>2</td>\n",
       "      <td>[4, 5]</td>\n",
       "      <td>[676.0, 563.0, 563.0, 563.0, 563.0, 563.0]</td>\n",
       "      <td>[138.472035, 159.775425, 159.775425, 159.77542...</td>\n",
       "      <td>[0.6571025013446885, 0.593086498207082, 0.5930...</td>\n",
       "      <td>...</td>\n",
       "      <td>1</td>\n",
       "      <td>338.0</td>\n",
       "      <td>319.55085</td>\n",
       "      <td>4    199.0\n",
       "5    338.0\n",
       "Name: EndDate min, dtype...</td>\n",
       "      <td>[139.0, 0.0]</td>\n",
       "      <td>139.0</td>\n",
       "      <td>69.500000</td>\n",
       "      <td>2022-02-01 06:39:47</td>\n",
       "      <td>2022-02-01 14:09:47</td>\n",
       "      <td>[4, 5]</td>\n",
       "    </tr>\n",
       "    <tr>\n",
       "      <th>2</th>\n",
       "      <td>Rotor B3</td>\n",
       "      <td>532.0</td>\n",
       "      <td>300</td>\n",
       "      <td>326.65198</td>\n",
       "      <td>71.01130</td>\n",
       "      <td>3</td>\n",
       "      <td>[8, 9, 10]</td>\n",
       "      <td>[632.0, 888.0, 632.0, 632.0, 632.0, 632.0]</td>\n",
       "      <td>[94.68173333333333, 94.68173333333333, 108.883...</td>\n",
       "      <td>[0.5784795995816524, 0.7732622082773045, 0.593...</td>\n",
       "      <td>...</td>\n",
       "      <td>0</td>\n",
       "      <td>532.0</td>\n",
       "      <td>284.04520</td>\n",
       "      <td>8     525.0\n",
       "9     532.0\n",
       "10    532.0\n",
       "Name: EndD...</td>\n",
       "      <td>[7.0, 0.0, 0.0]</td>\n",
       "      <td>7.0</td>\n",
       "      <td>2.333333</td>\n",
       "      <td>2022-02-01 09:53:47</td>\n",
       "      <td>2022-02-01 14:53:47</td>\n",
       "      <td>[8, 9, 10]</td>\n",
       "    </tr>\n",
       "    <tr>\n",
       "      <th>3</th>\n",
       "      <td>Rotor A2</td>\n",
       "      <td>365.0</td>\n",
       "      <td>450</td>\n",
       "      <td>319.55085</td>\n",
       "      <td>42.60678</td>\n",
       "      <td>2</td>\n",
       "      <td>[3, 7]</td>\n",
       "      <td>[1057.0, 1013.0, 590.0, 590.0, 590.0, 590.0]</td>\n",
       "      <td>[124.26977500000001, 138.472035, 159.775425, 1...</td>\n",
       "      <td>[0.9323523005378753, 0.9135155448229493, 0.613...</td>\n",
       "      <td>...</td>\n",
       "      <td>2</td>\n",
       "      <td>365.0</td>\n",
       "      <td>319.55085</td>\n",
       "      <td>3    136.0\n",
       "7    365.0\n",
       "Name: EndDate min, dtype...</td>\n",
       "      <td>[229.0, 0.0]</td>\n",
       "      <td>229.0</td>\n",
       "      <td>114.500000</td>\n",
       "      <td>2022-02-01 07:06:47</td>\n",
       "      <td>2022-02-01 14:36:47</td>\n",
       "      <td>[3, 7]</td>\n",
       "    </tr>\n",
       "    <tr>\n",
       "      <th>4</th>\n",
       "      <td>Rotor A4</td>\n",
       "      <td>127.0</td>\n",
       "      <td>460</td>\n",
       "      <td>319.55085</td>\n",
       "      <td>42.60678</td>\n",
       "      <td>1</td>\n",
       "      <td>[2]</td>\n",
       "      <td>[1292.0, 1248.0, 1275.0, 587.0, 587.0, 587.0]</td>\n",
       "      <td>[248.53955000000002, 276.94407, 276.94407, 319...</td>\n",
       "      <td>[1.2392698184670552, 1.2350745679067683, 1.255...</td>\n",
       "      <td>...</td>\n",
       "      <td>3</td>\n",
       "      <td>127.0</td>\n",
       "      <td>319.55085</td>\n",
       "      <td>2    127.0\n",
       "Name: EndDate min, dtype: float64</td>\n",
       "      <td>[0.0]</td>\n",
       "      <td>0.0</td>\n",
       "      <td>0.000000</td>\n",
       "      <td>2022-02-01 03:08:47</td>\n",
       "      <td>2022-02-01 10:48:47</td>\n",
       "      <td>[2]</td>\n",
       "    </tr>\n",
       "  </tbody>\n",
       "</table>\n",
       "<p>5 rows × 21 columns</p>\n",
       "</div>"
      ],
      "text/plain": [
       "    Product  TimeAvailable  Duration  TargetTemp  CoolTemp  Lambda  \\\n",
       "0  Rotor A3            1.0       450   319.55085  42.60678       2   \n",
       "1  Rotor A3          338.0       450   319.55085  42.60678       2   \n",
       "2  Rotor B3          532.0       300   326.65198  71.01130       3   \n",
       "3  Rotor A2          365.0       450   319.55085  42.60678       2   \n",
       "4  Rotor A4          127.0       460   319.55085  42.60678       1   \n",
       "\n",
       "  ProductIndexes                                   ProductTimes  \\\n",
       "0         [0, 1]     [226.0, 226.0, 226.0, 226.0, 226.0, 226.0]   \n",
       "1         [4, 5]     [676.0, 563.0, 563.0, 563.0, 563.0, 563.0]   \n",
       "2     [8, 9, 10]     [632.0, 888.0, 632.0, 632.0, 632.0, 632.0]   \n",
       "3         [3, 7]   [1057.0, 1013.0, 590.0, 590.0, 590.0, 590.0]   \n",
       "4            [2]  [1292.0, 1248.0, 1275.0, 587.0, 587.0, 587.0]   \n",
       "\n",
       "                                     ProductDifTemps  \\\n",
       "0  [159.775425, 159.775425, 159.775425, 159.77542...   \n",
       "1  [138.472035, 159.775425, 159.775425, 159.77542...   \n",
       "2  [94.68173333333333, 94.68173333333333, 108.883...   \n",
       "3  [124.26977500000001, 138.472035, 159.775425, 1...   \n",
       "4  [248.53955000000002, 276.94407, 276.94407, 319...   \n",
       "\n",
       "                                               Costs  ...  OvenIndex  \\\n",
       "0  [0.33667345472882115, 0.33667345472882115, 0.3...  ...          0   \n",
       "1  [0.6571025013446885, 0.593086498207082, 0.5930...  ...          1   \n",
       "2  [0.5784795995816524, 0.7732622082773045, 0.593...  ...          0   \n",
       "3  [0.9323523005378753, 0.9135155448229493, 0.613...  ...          2   \n",
       "4  [1.2392698184670552, 1.2350745679067683, 1.255...  ...          3   \n",
       "\n",
       "   EnterTime  DifTemperature  \\\n",
       "0        1.0       319.55085   \n",
       "1      338.0       319.55085   \n",
       "2      532.0       284.04520   \n",
       "3      365.0       319.55085   \n",
       "4      127.0       319.55085   \n",
       "\n",
       "                                     TimesAvailables     WaitingTimes  \\\n",
       "0  0    0.0\n",
       "1    1.0\n",
       "Name: EndDate min, dtype: fl...       [1.0, 0.0]   \n",
       "1  4    199.0\n",
       "5    338.0\n",
       "Name: EndDate min, dtype...     [139.0, 0.0]   \n",
       "2  8     525.0\n",
       "9     532.0\n",
       "10    532.0\n",
       "Name: EndD...  [7.0, 0.0, 0.0]   \n",
       "3  3    136.0\n",
       "7    365.0\n",
       "Name: EndDate min, dtype...     [229.0, 0.0]   \n",
       "4       2    127.0\n",
       "Name: EndDate min, dtype: float64            [0.0]   \n",
       "\n",
       "  SumWaitingTime  MeanWaitingTime            JobStart           JobFinish  \\\n",
       "0            1.0         0.500000 2022-02-01 01:02:47 2022-02-01 08:32:47   \n",
       "1          139.0        69.500000 2022-02-01 06:39:47 2022-02-01 14:09:47   \n",
       "2            7.0         2.333333 2022-02-01 09:53:47 2022-02-01 14:53:47   \n",
       "3          229.0       114.500000 2022-02-01 07:06:47 2022-02-01 14:36:47   \n",
       "4            0.0         0.000000 2022-02-01 03:08:47 2022-02-01 10:48:47   \n",
       "\n",
       "  ProductIndexesText  \n",
       "0             [0, 1]  \n",
       "1             [4, 5]  \n",
       "2         [8, 9, 10]  \n",
       "3             [3, 7]  \n",
       "4                [2]  \n",
       "\n",
       "[5 rows x 21 columns]"
      ]
     },
     "execution_count": 38,
     "metadata": {},
     "output_type": "execute_result"
    }
   ],
   "source": [
    "oven_list = [Oven(i, finish_time=0, temp=0, rotor_list=[]) for i in range(6)]\n",
    "path = []\n",
    "df_remaining = kuka_output.copy()\n",
    "current_node = Node(path, df_remaining, oven_list, {})\n",
    "max_lambda = 3\n",
    "\n",
    "while df_remaining.shape[0]>0:\n",
    "    next_node_dict = current_node.get_next()\n",
    "    oven_list[next_node_dict['OvenIndex']].add_rotor(next_node_dict['TimeAvailable'], next_node_dict['Duration'],\n",
    "                                                     next_node_dict['CoolTemp'], next_node_dict['ProductIndexes'])\n",
    "    df_remaining.drop(index=next_node_dict['ProductIndexes'], inplace=True)\n",
    "    path.append(current_node)\n",
    "    current_node = Node(path, df_remaining, oven_list, next_node_dict)\n",
    "    if df_remaining.shape[0] == 0:\n",
    "        path.append(current_node)\n",
    "\n",
    "node_dicts = [i.node_dict for i in path][1:]\n",
    "nodes_df = pd.DataFrame(node_dicts)\n",
    "nodes_df['JobStart'] = t0 + pd.to_timedelta(nodes_df['EnterTime'], unit='m')\n",
    "nodes_df['JobFinish'] = t0 + pd.to_timedelta(nodes_df[['EnterTime', 'Duration']].sum(axis=1), unit='m')\n",
    "nodes_df['ProductIndexesText'] = nodes_df['ProductIndexes'].astype(str)\n",
    "nodes_df.head()"
   ]
  },
  {
   "cell_type": "code",
   "execution_count": 39,
   "id": "407c536e",
   "metadata": {},
   "outputs": [
    {
     "data": {
      "application/vnd.plotly.v1+json": {
       "config": {
        "plotlyServerURL": "https://plot.ly"
       },
       "data": [
        {
         "alignmentgroup": "True",
         "base": [
          "2022-02-01T01:02:47",
          "2022-02-01T06:39:47",
          "2022-02-04T03:47:47",
          "2022-02-04T09:01:47",
          "2022-02-04T12:15:47",
          "2022-02-04T20:49:47",
          "2022-02-05T17:38:47",
          "2022-02-06T01:54:47",
          "2022-02-06T04:33:47",
          "2022-02-06T22:30:47",
          "2022-02-07T06:31:47",
          "2022-02-07T15:44:47",
          "2022-02-08T06:20:47",
          "2022-02-08T11:37:47",
          "2022-02-09T03:09:47",
          "2022-02-09T11:02:47",
          "2022-02-11T20:41:47",
          "2022-02-13T14:54:47",
          "2022-02-13T14:54:47",
          "2022-02-14T05:09:47",
          "2022-02-14T12:30:47",
          "2022-02-15T00:03:47",
          "2022-02-15T05:40:47",
          "2022-02-15T08:23:47",
          "2022-02-17T14:38:47",
          "2022-02-17T21:13:47",
          "2022-02-18T02:54:47",
          "2022-02-18T06:40:47",
          "2022-02-20T02:23:47",
          "2022-02-21T04:09:47",
          "2022-02-23T16:37:47",
          "2022-02-23T23:43:47",
          "2022-02-27T17:42:47",
          "2022-02-27T18:59:47",
          "2022-02-28T03:14:47",
          "2022-02-28T05:11:47"
         ],
         "hovertemplate": "Product=Rotor A3<br>JobStart=%{base}<br>JobFinish=%{x}<br>OvenIndex=%{y}<extra></extra>",
         "legendgroup": "Rotor A3",
         "marker": {
          "color": "#636efa"
         },
         "name": "Rotor A3",
         "offsetgroup": "Rotor A3",
         "orientation": "h",
         "showlegend": true,
         "textposition": "auto",
         "type": "bar",
         "x": [
          27000000,
          27000000,
          27000000,
          27000000,
          27000000,
          27000000,
          27000000,
          27000000,
          27000000,
          27000000,
          27000000,
          27000000,
          27000000,
          27000000,
          27000000,
          27000000,
          27000000,
          27000000,
          27000000,
          27000000,
          27000000,
          27000000,
          27000000,
          27000000,
          27000000,
          27000000,
          27000000,
          27000000,
          27000000,
          27000000,
          27000000,
          27000000,
          27000000,
          27000000,
          27000000,
          27000000
         ],
         "xaxis": "x",
         "y": [
          0,
          1,
          4,
          1,
          0,
          2,
          2,
          1,
          5,
          3,
          2,
          2,
          3,
          0,
          3,
          0,
          5,
          0,
          1,
          1,
          0,
          0,
          2,
          3,
          2,
          1,
          2,
          5,
          1,
          2,
          1,
          2,
          0,
          2,
          0,
          3
         ],
         "yaxis": "y"
        },
        {
         "alignmentgroup": "True",
         "base": [
          "2022-02-01T09:53:47",
          "2022-02-01T16:25:47",
          "2022-02-05T09:48:47",
          "2022-02-07T03:40:47",
          "2022-02-09T03:40:47",
          "2022-02-10T00:31:47",
          "2022-02-10T04:29:47",
          "2022-02-11T20:26:47",
          "2022-02-12T13:56:47",
          "2022-02-12T17:41:47",
          "2022-02-14T23:11:47",
          "2022-02-17T07:12:47",
          "2022-02-18T06:15:47",
          "2022-02-19T22:03:47",
          "2022-02-22T14:34:47",
          "2022-02-22T18:05:47",
          "2022-02-24T22:55:47",
          "2022-02-25T02:15:47",
          "2022-02-26T08:51:47",
          "2022-02-28T06:30:47",
          "2022-02-28T23:11:47",
          "2022-03-01T01:14:47"
         ],
         "hovertemplate": "Product=Rotor B3<br>JobStart=%{base}<br>JobFinish=%{x}<br>OvenIndex=%{y}<extra></extra>",
         "legendgroup": "Rotor B3",
         "marker": {
          "color": "#EF553B"
         },
         "name": "Rotor B3",
         "offsetgroup": "Rotor B3",
         "orientation": "h",
         "showlegend": true,
         "textposition": "auto",
         "type": "bar",
         "x": [
          18000000,
          18000000,
          18000000,
          18000000,
          18000000,
          18000000,
          18000000,
          18000000,
          18000000,
          18000000,
          18000000,
          18000000,
          18000000,
          18000000,
          18000000,
          18000000,
          18000000,
          18000000,
          18000000,
          18000000,
          18000000,
          18000000
         ],
         "xaxis": "x",
         "y": [
          0,
          0,
          1,
          0,
          0,
          1,
          4,
          4,
          0,
          3,
          1,
          2,
          3,
          3,
          0,
          4,
          0,
          1,
          2,
          2,
          0,
          3
         ],
         "yaxis": "y"
        },
        {
         "alignmentgroup": "True",
         "base": [
          "2022-02-01T07:06:47",
          "2022-02-01T14:17:47",
          "2022-02-01T23:28:47",
          "2022-02-01T23:53:47",
          "2022-02-02T03:39:47",
          "2022-02-02T13:33:47",
          "2022-02-02T19:16:47",
          "2022-02-03T02:14:47",
          "2022-02-03T04:41:47",
          "2022-02-03T08:31:47",
          "2022-02-03T11:25:47",
          "2022-02-03T13:31:47",
          "2022-02-03T18:31:47",
          "2022-02-03T23:10:47",
          "2022-02-04T17:33:47",
          "2022-02-06T22:20:47",
          "2022-02-07T03:05:47",
          "2022-02-07T17:35:47",
          "2022-02-07T20:25:47",
          "2022-02-08T02:09:47",
          "2022-02-08T04:28:47",
          "2022-02-08T22:52:47",
          "2022-02-09T04:42:47",
          "2022-02-09T16:18:47",
          "2022-02-09T21:20:47",
          "2022-02-10T02:27:47",
          "2022-02-10T05:11:47",
          "2022-02-14T12:59:47",
          "2022-02-14T18:19:47",
          "2022-02-16T20:38:47",
          "2022-02-17T01:29:47",
          "2022-02-18T20:04:47",
          "2022-02-19T10:29:47",
          "2022-02-20T04:49:47",
          "2022-02-20T15:59:47",
          "2022-02-20T19:32:47",
          "2022-02-21T18:27:47",
          "2022-02-21T21:18:47",
          "2022-02-22T12:52:47",
          "2022-02-22T19:09:47",
          "2022-02-22T21:42:47",
          "2022-02-23T15:20:47",
          "2022-02-23T20:40:47",
          "2022-02-24T03:31:47",
          "2022-02-24T08:49:47",
          "2022-02-24T17:40:47",
          "2022-02-25T13:28:47",
          "2022-02-25T17:28:47",
          "2022-02-26T05:20:47",
          "2022-02-26T14:40:47",
          "2022-02-26T20:07:47",
          "2022-02-28T14:01:47",
          "2022-02-28T19:46:47"
         ],
         "hovertemplate": "Product=Rotor A2<br>JobStart=%{base}<br>JobFinish=%{x}<br>OvenIndex=%{y}<extra></extra>",
         "legendgroup": "Rotor A2",
         "marker": {
          "color": "#00cc96"
         },
         "name": "Rotor A2",
         "offsetgroup": "Rotor A2",
         "orientation": "h",
         "showlegend": true,
         "textposition": "auto",
         "type": "bar",
         "x": [
          27000000,
          27000000,
          27000000,
          27000000,
          27000000,
          27000000,
          27000000,
          27000000,
          27000000,
          27000000,
          27000000,
          27000000,
          27000000,
          27000000,
          27000000,
          27000000,
          27000000,
          27000000,
          27000000,
          27000000,
          27000000,
          27000000,
          27000000,
          27000000,
          27000000,
          27000000,
          27000000,
          27000000,
          27000000,
          27000000,
          27000000,
          27000000,
          27000000,
          27000000,
          27000000,
          27000000,
          27000000,
          27000000,
          27000000,
          27000000,
          27000000,
          27000000,
          27000000,
          27000000,
          27000000,
          27000000,
          27000000,
          27000000,
          27000000,
          27000000,
          27000000,
          27000000,
          27000000
         ],
         "xaxis": "x",
         "y": [
          2,
          1,
          0,
          1,
          3,
          1,
          0,
          1,
          0,
          2,
          1,
          3,
          2,
          1,
          4,
          2,
          1,
          4,
          1,
          2,
          1,
          1,
          2,
          2,
          0,
          3,
          0,
          1,
          4,
          2,
          0,
          2,
          1,
          2,
          1,
          4,
          0,
          3,
          1,
          3,
          5,
          2,
          3,
          0,
          1,
          1,
          2,
          0,
          0,
          0,
          4,
          2,
          1
         ],
         "yaxis": "y"
        },
        {
         "alignmentgroup": "True",
         "base": [
          "2022-02-01T03:08:47",
          "2022-02-01T23:34:47",
          "2022-02-06T04:17:47",
          "2022-02-06T04:28:47",
          "2022-02-06T17:10:47",
          "2022-02-06T17:12:47",
          "2022-02-07T09:39:47",
          "2022-02-07T10:03:47",
          "2022-02-08T02:50:47",
          "2022-02-08T04:47:47",
          "2022-02-08T20:02:47",
          "2022-02-08T23:03:47",
          "2022-02-09T12:50:47",
          "2022-02-09T18:14:47",
          "2022-02-10T10:42:47",
          "2022-02-10T17:35:47",
          "2022-02-11T10:43:47",
          "2022-02-11T18:14:47",
          "2022-02-13T16:33:47",
          "2022-02-14T00:29:47",
          "2022-02-14T04:39:47",
          "2022-02-14T14:39:47",
          "2022-02-14T17:27:47",
          "2022-02-16T20:07:47",
          "2022-02-17T01:34:47",
          "2022-02-17T16:13:47",
          "2022-02-18T00:55:47",
          "2022-02-20T02:07:47",
          "2022-02-20T12:46:47",
          "2022-02-20T13:06:47",
          "2022-02-20T21:36:47",
          "2022-02-21T02:57:47",
          "2022-02-21T04:43:47",
          "2022-02-21T07:08:47",
          "2022-02-22T08:35:47",
          "2022-02-22T23:24:47",
          "2022-02-23T04:11:47",
          "2022-02-23T17:31:47",
          "2022-02-24T00:21:47",
          "2022-02-24T05:26:47",
          "2022-02-24T08:49:47",
          "2022-02-25T12:24:47",
          "2022-02-25T16:11:47",
          "2022-02-27T01:09:47",
          "2022-02-27T09:27:47",
          "2022-02-27T12:10:47",
          "2022-02-28T00:36:47",
          "2022-02-28T09:52:47",
          "2022-02-28T14:56:47",
          "2022-02-28T17:32:47"
         ],
         "hovertemplate": "Product=Rotor A4<br>JobStart=%{base}<br>JobFinish=%{x}<br>OvenIndex=%{y}<extra></extra>",
         "legendgroup": "Rotor A4",
         "marker": {
          "color": "#ab63fa"
         },
         "name": "Rotor A4",
         "offsetgroup": "Rotor A4",
         "orientation": "h",
         "showlegend": true,
         "textposition": "auto",
         "type": "bar",
         "x": [
          27600000,
          27600000,
          27600000,
          27600000,
          27600000,
          27600000,
          27600000,
          27600000,
          27600000,
          27600000,
          27600000,
          27600000,
          27600000,
          27600000,
          27600000,
          27600000,
          27600000,
          27600000,
          27600000,
          27600000,
          27600000,
          27600000,
          27600000,
          27600000,
          27600000,
          27600000,
          27600000,
          27600000,
          27600000,
          27600000,
          27600000,
          27600000,
          27600000,
          27600000,
          27600000,
          27600000,
          27600000,
          27600000,
          27600000,
          27600000,
          27600000,
          27600000,
          27600000,
          27600000,
          27600000,
          27600000,
          27600000,
          27600000,
          27600000,
          27600000
         ],
         "xaxis": "x",
         "y": [
          3,
          2,
          0,
          3,
          0,
          1,
          0,
          3,
          0,
          4,
          2,
          5,
          1,
          3,
          4,
          2,
          1,
          2,
          2,
          0,
          2,
          3,
          5,
          1,
          3,
          0,
          0,
          0,
          3,
          0,
          0,
          1,
          3,
          0,
          3,
          0,
          2,
          0,
          1,
          3,
          2,
          1,
          3,
          0,
          0,
          3,
          1,
          1,
          0,
          3
         ],
         "yaxis": "y"
        },
        {
         "alignmentgroup": "True",
         "base": [
          "2022-02-01T06:44:47",
          "2022-02-06T03:09:47",
          "2022-02-06T17:14:47",
          "2022-02-08T20:59:47",
          "2022-02-08T21:00:47",
          "2022-02-10T19:50:47",
          "2022-02-11T09:47:47",
          "2022-02-11T18:08:47",
          "2022-02-11T18:08:47",
          "2022-02-13T08:36:47",
          "2022-02-13T10:52:47",
          "2022-02-13T17:15:47",
          "2022-02-16T01:05:47",
          "2022-02-16T08:52:47",
          "2022-02-16T18:09:47",
          "2022-02-17T05:11:47",
          "2022-02-17T13:38:47",
          "2022-02-18T04:25:47",
          "2022-02-18T20:37:47",
          "2022-02-19T20:15:47",
          "2022-02-21T20:10:47",
          "2022-02-22T12:41:47",
          "2022-02-23T01:33:47",
          "2022-02-23T08:32:47",
          "2022-02-23T12:23:47",
          "2022-02-25T13:13:47",
          "2022-02-26T07:09:47",
          "2022-02-26T14:08:47",
          "2022-02-27T08:25:47",
          "2022-02-27T14:39:47",
          "2022-03-01T04:12:47"
         ],
         "hovertemplate": "Product=Rotor C1<br>JobStart=%{base}<br>JobFinish=%{x}<br>OvenIndex=%{y}<extra></extra>",
         "legendgroup": "Rotor C1",
         "marker": {
          "color": "#FFA15A"
         },
         "name": "Rotor C1",
         "offsetgroup": "Rotor C1",
         "orientation": "h",
         "showlegend": true,
         "textposition": "auto",
         "type": "bar",
         "x": [
          14400000,
          14400000,
          14400000,
          14400000,
          14400000,
          14400000,
          14400000,
          14400000,
          14400000,
          14400000,
          14400000,
          14400000,
          14400000,
          14400000,
          14400000,
          14400000,
          14400000,
          14400000,
          14400000,
          14400000,
          14400000,
          14400000,
          14400000,
          14400000,
          14400000,
          14400000,
          14400000,
          14400000,
          14400000,
          14400000,
          14400000
         ],
         "xaxis": "x",
         "y": [
          4,
          2,
          2,
          0,
          3,
          1,
          0,
          0,
          3,
          2,
          3,
          3,
          1,
          1,
          0,
          1,
          1,
          4,
          1,
          0,
          2,
          4,
          4,
          0,
          1,
          0,
          1,
          4,
          1,
          2,
          0
         ],
         "yaxis": "y"
        },
        {
         "alignmentgroup": "True",
         "base": [
          "2022-02-01T12:35:47",
          "2022-02-03T04:40:47",
          "2022-02-04T19:45:47",
          "2022-02-09T17:40:47",
          "2022-02-13T00:32:47",
          "2022-02-14T14:30:47",
          "2022-02-15T05:31:47",
          "2022-02-15T12:38:47",
          "2022-02-19T18:48:47",
          "2022-02-19T22:03:47",
          "2022-02-21T18:32:47",
          "2022-02-22T14:34:47",
          "2022-02-25T00:53:47",
          "2022-02-25T04:51:47",
          "2022-02-25T18:47:47",
          "2022-02-27T13:01:47",
          "2022-03-01T06:16:47"
         ],
         "hovertemplate": "Product=Rotor A5<br>JobStart=%{base}<br>JobFinish=%{x}<br>OvenIndex=%{y}<extra></extra>",
         "legendgroup": "Rotor A5",
         "marker": {
          "color": "#19d3f3"
         },
         "name": "Rotor A5",
         "offsetgroup": "Rotor A5",
         "orientation": "h",
         "showlegend": true,
         "textposition": "auto",
         "type": "bar",
         "x": [
          27600000,
          27600000,
          27600000,
          27600000,
          27600000,
          27600000,
          27600000,
          27600000,
          27600000,
          27600000,
          27600000,
          27600000,
          27600000,
          27600000,
          27600000,
          27600000,
          27600000
         ],
         "xaxis": "x",
         "y": [
          3,
          3,
          0,
          4,
          4,
          2,
          1,
          0,
          2,
          5,
          1,
          2,
          3,
          0,
          4,
          1,
          3
         ],
         "yaxis": "y"
        },
        {
         "alignmentgroup": "True",
         "base": [
          "2022-02-02T11:17:47",
          "2022-02-02T16:27:47",
          "2022-02-05T06:10:47",
          "2022-02-05T16:51:47",
          "2022-02-07T20:40:47",
          "2022-02-10T22:53:47",
          "2022-02-11T03:55:47",
          "2022-02-12T20:11:47",
          "2022-02-19T20:42:47",
          "2022-02-20T00:22:47",
          "2022-02-23T06:55:47",
          "2022-02-23T09:09:47",
          "2022-02-24T16:40:47",
          "2022-02-24T20:32:47",
          "2022-02-27T01:57:47",
          "2022-02-27T09:07:47",
          "2022-03-01T02:45:47"
         ],
         "hovertemplate": "Product=Rotor A1<br>JobStart=%{base}<br>JobFinish=%{x}<br>OvenIndex=%{y}<extra></extra>",
         "legendgroup": "Rotor A1",
         "marker": {
          "color": "#FF6692"
         },
         "name": "Rotor A1",
         "offsetgroup": "Rotor A1",
         "orientation": "h",
         "showlegend": true,
         "textposition": "auto",
         "type": "bar",
         "x": [
          19200000,
          19200000,
          19200000,
          19200000,
          19200000,
          19200000,
          19200000,
          19200000,
          19200000,
          19200000,
          19200000,
          19200000,
          19200000,
          19200000,
          19200000,
          19200000,
          19200000
         ],
         "xaxis": "x",
         "y": [
          0,
          2,
          3,
          1,
          3,
          0,
          2,
          0,
          1,
          4,
          1,
          4,
          0,
          2,
          1,
          2,
          2
         ],
         "yaxis": "y"
        },
        {
         "alignmentgroup": "True",
         "base": [
          "2022-02-03T12:26:47",
          "2022-02-03T12:56:47",
          "2022-02-04T12:53:47",
          "2022-02-12T19:44:47",
          "2022-02-16T08:57:47",
          "2022-02-17T21:11:47",
          "2022-02-18T16:22:47"
         ],
         "hovertemplate": "Product=Rotor B6<br>JobStart=%{base}<br>JobFinish=%{x}<br>OvenIndex=%{y}<extra></extra>",
         "legendgroup": "Rotor B6",
         "marker": {
          "color": "#B6E880"
         },
         "name": "Rotor B6",
         "offsetgroup": "Rotor B6",
         "orientation": "h",
         "showlegend": true,
         "textposition": "auto",
         "type": "bar",
         "x": [
          27000000,
          27000000,
          27000000,
          27000000,
          27000000,
          27000000,
          27000000
         ],
         "xaxis": "x",
         "y": [
          0,
          4,
          2,
          2,
          0,
          3,
          3
         ],
         "yaxis": "y"
        },
        {
         "alignmentgroup": "True",
         "base": [
          "2022-02-03T23:10:47",
          "2022-02-04T07:28:47",
          "2022-02-04T19:38:47",
          "2022-02-05T06:38:47",
          "2022-02-15T21:44:47",
          "2022-02-16T03:30:47",
          "2022-02-18T20:13:47",
          "2022-02-19T08:02:47",
          "2022-02-26T14:32:47",
          "2022-02-26T17:30:47"
         ],
         "hovertemplate": "Product=Rotor C0<br>JobStart=%{base}<br>JobFinish=%{x}<br>OvenIndex=%{y}<extra></extra>",
         "legendgroup": "Rotor C0",
         "marker": {
          "color": "#FF97FF"
         },
         "name": "Rotor C0",
         "offsetgroup": "Rotor C0",
         "orientation": "h",
         "showlegend": true,
         "textposition": "auto",
         "type": "bar",
         "x": [
          14400000,
          14400000,
          14400000,
          14400000,
          14400000,
          14400000,
          14400000,
          14400000,
          14400000,
          14400000
         ],
         "xaxis": "x",
         "y": [
          0,
          0,
          1,
          2,
          0,
          0,
          0,
          3,
          2,
          3
         ],
         "yaxis": "y"
        },
        {
         "alignmentgroup": "True",
         "base": [
          "2022-02-04T11:02:47",
          "2022-02-05T10:17:47",
          "2022-02-05T20:22:47",
          "2022-02-05T23:00:47",
          "2022-02-08T14:29:47",
          "2022-02-08T18:35:47",
          "2022-02-10T03:53:47",
          "2022-02-10T09:02:47",
          "2022-02-10T15:11:47",
          "2022-02-11T10:08:47",
          "2022-02-11T20:14:47",
          "2022-02-12T12:13:47",
          "2022-02-12T17:53:47",
          "2022-02-12T22:49:47",
          "2022-02-13T06:35:47",
          "2022-02-18T05:13:47",
          "2022-02-18T08:38:47",
          "2022-02-18T20:03:47",
          "2022-02-19T08:32:47",
          "2022-02-20T16:17:47",
          "2022-02-21T23:20:47",
          "2022-02-23T05:29:47",
          "2022-02-23T12:44:47",
          "2022-02-24T03:31:47",
          "2022-02-26T14:39:47",
          "2022-02-26T18:58:47",
          "2022-02-26T21:46:47",
          "2022-02-27T00:31:47",
          "2022-02-28T08:47:47"
         ],
         "hovertemplate": "Product=Rotor A6<br>JobStart=%{base}<br>JobFinish=%{x}<br>OvenIndex=%{y}<extra></extra>",
         "legendgroup": "Rotor A6",
         "marker": {
          "color": "#FECB52"
         },
         "name": "Rotor A6",
         "offsetgroup": "Rotor A6",
         "orientation": "h",
         "showlegend": true,
         "textposition": "auto",
         "type": "bar",
         "x": [
          27600000,
          27600000,
          27600000,
          27600000,
          27600000,
          27600000,
          27600000,
          27600000,
          27600000,
          27600000,
          27600000,
          27600000,
          27600000,
          27600000,
          27600000,
          27600000,
          27600000,
          27600000,
          27600000,
          27600000,
          27600000,
          27600000,
          27600000,
          27600000,
          27600000,
          27600000,
          27600000,
          27600000,
          27600000
         ],
         "xaxis": "x",
         "y": [
          3,
          0,
          0,
          4,
          1,
          4,
          2,
          1,
          0,
          2,
          1,
          4,
          1,
          3,
          1,
          1,
          0,
          4,
          0,
          2,
          4,
          3,
          5,
          4,
          1,
          2,
          3,
          5,
          4
         ],
         "yaxis": "y"
        },
        {
         "alignmentgroup": "True",
         "base": [
          "2022-02-07T13:09:47",
          "2022-02-07T18:24:47",
          "2022-02-11T00:27:47",
          "2022-02-11T04:13:47"
         ],
         "hovertemplate": "Product=Rotor C3<br>JobStart=%{base}<br>JobFinish=%{x}<br>OvenIndex=%{y}<extra></extra>",
         "legendgroup": "Rotor C3",
         "marker": {
          "color": "#636efa"
         },
         "name": "Rotor C3",
         "offsetgroup": "Rotor C3",
         "orientation": "h",
         "showlegend": true,
         "textposition": "auto",
         "type": "bar",
         "x": [
          16200000,
          16200000,
          16200000,
          16200000
         ],
         "xaxis": "x",
         "y": [
          1,
          0,
          1,
          0
         ],
         "yaxis": "y"
        }
       ],
       "layout": {
        "barmode": "overlay",
        "legend": {
         "title": {
          "text": "Product"
         },
         "tracegroupgap": 0
        },
        "template": {
         "data": {
          "bar": [
           {
            "error_x": {
             "color": "#2a3f5f"
            },
            "error_y": {
             "color": "#2a3f5f"
            },
            "marker": {
             "line": {
              "color": "#E5ECF6",
              "width": 0.5
             },
             "pattern": {
              "fillmode": "overlay",
              "size": 10,
              "solidity": 0.2
             }
            },
            "type": "bar"
           }
          ],
          "barpolar": [
           {
            "marker": {
             "line": {
              "color": "#E5ECF6",
              "width": 0.5
             },
             "pattern": {
              "fillmode": "overlay",
              "size": 10,
              "solidity": 0.2
             }
            },
            "type": "barpolar"
           }
          ],
          "carpet": [
           {
            "aaxis": {
             "endlinecolor": "#2a3f5f",
             "gridcolor": "white",
             "linecolor": "white",
             "minorgridcolor": "white",
             "startlinecolor": "#2a3f5f"
            },
            "baxis": {
             "endlinecolor": "#2a3f5f",
             "gridcolor": "white",
             "linecolor": "white",
             "minorgridcolor": "white",
             "startlinecolor": "#2a3f5f"
            },
            "type": "carpet"
           }
          ],
          "choropleth": [
           {
            "colorbar": {
             "outlinewidth": 0,
             "ticks": ""
            },
            "type": "choropleth"
           }
          ],
          "contour": [
           {
            "colorbar": {
             "outlinewidth": 0,
             "ticks": ""
            },
            "colorscale": [
             [
              0,
              "#0d0887"
             ],
             [
              0.1111111111111111,
              "#46039f"
             ],
             [
              0.2222222222222222,
              "#7201a8"
             ],
             [
              0.3333333333333333,
              "#9c179e"
             ],
             [
              0.4444444444444444,
              "#bd3786"
             ],
             [
              0.5555555555555556,
              "#d8576b"
             ],
             [
              0.6666666666666666,
              "#ed7953"
             ],
             [
              0.7777777777777778,
              "#fb9f3a"
             ],
             [
              0.8888888888888888,
              "#fdca26"
             ],
             [
              1,
              "#f0f921"
             ]
            ],
            "type": "contour"
           }
          ],
          "contourcarpet": [
           {
            "colorbar": {
             "outlinewidth": 0,
             "ticks": ""
            },
            "type": "contourcarpet"
           }
          ],
          "heatmap": [
           {
            "colorbar": {
             "outlinewidth": 0,
             "ticks": ""
            },
            "colorscale": [
             [
              0,
              "#0d0887"
             ],
             [
              0.1111111111111111,
              "#46039f"
             ],
             [
              0.2222222222222222,
              "#7201a8"
             ],
             [
              0.3333333333333333,
              "#9c179e"
             ],
             [
              0.4444444444444444,
              "#bd3786"
             ],
             [
              0.5555555555555556,
              "#d8576b"
             ],
             [
              0.6666666666666666,
              "#ed7953"
             ],
             [
              0.7777777777777778,
              "#fb9f3a"
             ],
             [
              0.8888888888888888,
              "#fdca26"
             ],
             [
              1,
              "#f0f921"
             ]
            ],
            "type": "heatmap"
           }
          ],
          "heatmapgl": [
           {
            "colorbar": {
             "outlinewidth": 0,
             "ticks": ""
            },
            "colorscale": [
             [
              0,
              "#0d0887"
             ],
             [
              0.1111111111111111,
              "#46039f"
             ],
             [
              0.2222222222222222,
              "#7201a8"
             ],
             [
              0.3333333333333333,
              "#9c179e"
             ],
             [
              0.4444444444444444,
              "#bd3786"
             ],
             [
              0.5555555555555556,
              "#d8576b"
             ],
             [
              0.6666666666666666,
              "#ed7953"
             ],
             [
              0.7777777777777778,
              "#fb9f3a"
             ],
             [
              0.8888888888888888,
              "#fdca26"
             ],
             [
              1,
              "#f0f921"
             ]
            ],
            "type": "heatmapgl"
           }
          ],
          "histogram": [
           {
            "marker": {
             "pattern": {
              "fillmode": "overlay",
              "size": 10,
              "solidity": 0.2
             }
            },
            "type": "histogram"
           }
          ],
          "histogram2d": [
           {
            "colorbar": {
             "outlinewidth": 0,
             "ticks": ""
            },
            "colorscale": [
             [
              0,
              "#0d0887"
             ],
             [
              0.1111111111111111,
              "#46039f"
             ],
             [
              0.2222222222222222,
              "#7201a8"
             ],
             [
              0.3333333333333333,
              "#9c179e"
             ],
             [
              0.4444444444444444,
              "#bd3786"
             ],
             [
              0.5555555555555556,
              "#d8576b"
             ],
             [
              0.6666666666666666,
              "#ed7953"
             ],
             [
              0.7777777777777778,
              "#fb9f3a"
             ],
             [
              0.8888888888888888,
              "#fdca26"
             ],
             [
              1,
              "#f0f921"
             ]
            ],
            "type": "histogram2d"
           }
          ],
          "histogram2dcontour": [
           {
            "colorbar": {
             "outlinewidth": 0,
             "ticks": ""
            },
            "colorscale": [
             [
              0,
              "#0d0887"
             ],
             [
              0.1111111111111111,
              "#46039f"
             ],
             [
              0.2222222222222222,
              "#7201a8"
             ],
             [
              0.3333333333333333,
              "#9c179e"
             ],
             [
              0.4444444444444444,
              "#bd3786"
             ],
             [
              0.5555555555555556,
              "#d8576b"
             ],
             [
              0.6666666666666666,
              "#ed7953"
             ],
             [
              0.7777777777777778,
              "#fb9f3a"
             ],
             [
              0.8888888888888888,
              "#fdca26"
             ],
             [
              1,
              "#f0f921"
             ]
            ],
            "type": "histogram2dcontour"
           }
          ],
          "mesh3d": [
           {
            "colorbar": {
             "outlinewidth": 0,
             "ticks": ""
            },
            "type": "mesh3d"
           }
          ],
          "parcoords": [
           {
            "line": {
             "colorbar": {
              "outlinewidth": 0,
              "ticks": ""
             }
            },
            "type": "parcoords"
           }
          ],
          "pie": [
           {
            "automargin": true,
            "type": "pie"
           }
          ],
          "scatter": [
           {
            "fillpattern": {
             "fillmode": "overlay",
             "size": 10,
             "solidity": 0.2
            },
            "type": "scatter"
           }
          ],
          "scatter3d": [
           {
            "line": {
             "colorbar": {
              "outlinewidth": 0,
              "ticks": ""
             }
            },
            "marker": {
             "colorbar": {
              "outlinewidth": 0,
              "ticks": ""
             }
            },
            "type": "scatter3d"
           }
          ],
          "scattercarpet": [
           {
            "marker": {
             "colorbar": {
              "outlinewidth": 0,
              "ticks": ""
             }
            },
            "type": "scattercarpet"
           }
          ],
          "scattergeo": [
           {
            "marker": {
             "colorbar": {
              "outlinewidth": 0,
              "ticks": ""
             }
            },
            "type": "scattergeo"
           }
          ],
          "scattergl": [
           {
            "marker": {
             "colorbar": {
              "outlinewidth": 0,
              "ticks": ""
             }
            },
            "type": "scattergl"
           }
          ],
          "scattermapbox": [
           {
            "marker": {
             "colorbar": {
              "outlinewidth": 0,
              "ticks": ""
             }
            },
            "type": "scattermapbox"
           }
          ],
          "scatterpolar": [
           {
            "marker": {
             "colorbar": {
              "outlinewidth": 0,
              "ticks": ""
             }
            },
            "type": "scatterpolar"
           }
          ],
          "scatterpolargl": [
           {
            "marker": {
             "colorbar": {
              "outlinewidth": 0,
              "ticks": ""
             }
            },
            "type": "scatterpolargl"
           }
          ],
          "scatterternary": [
           {
            "marker": {
             "colorbar": {
              "outlinewidth": 0,
              "ticks": ""
             }
            },
            "type": "scatterternary"
           }
          ],
          "surface": [
           {
            "colorbar": {
             "outlinewidth": 0,
             "ticks": ""
            },
            "colorscale": [
             [
              0,
              "#0d0887"
             ],
             [
              0.1111111111111111,
              "#46039f"
             ],
             [
              0.2222222222222222,
              "#7201a8"
             ],
             [
              0.3333333333333333,
              "#9c179e"
             ],
             [
              0.4444444444444444,
              "#bd3786"
             ],
             [
              0.5555555555555556,
              "#d8576b"
             ],
             [
              0.6666666666666666,
              "#ed7953"
             ],
             [
              0.7777777777777778,
              "#fb9f3a"
             ],
             [
              0.8888888888888888,
              "#fdca26"
             ],
             [
              1,
              "#f0f921"
             ]
            ],
            "type": "surface"
           }
          ],
          "table": [
           {
            "cells": {
             "fill": {
              "color": "#EBF0F8"
             },
             "line": {
              "color": "white"
             }
            },
            "header": {
             "fill": {
              "color": "#C8D4E3"
             },
             "line": {
              "color": "white"
             }
            },
            "type": "table"
           }
          ]
         },
         "layout": {
          "annotationdefaults": {
           "arrowcolor": "#2a3f5f",
           "arrowhead": 0,
           "arrowwidth": 1
          },
          "autotypenumbers": "strict",
          "coloraxis": {
           "colorbar": {
            "outlinewidth": 0,
            "ticks": ""
           }
          },
          "colorscale": {
           "diverging": [
            [
             0,
             "#8e0152"
            ],
            [
             0.1,
             "#c51b7d"
            ],
            [
             0.2,
             "#de77ae"
            ],
            [
             0.3,
             "#f1b6da"
            ],
            [
             0.4,
             "#fde0ef"
            ],
            [
             0.5,
             "#f7f7f7"
            ],
            [
             0.6,
             "#e6f5d0"
            ],
            [
             0.7,
             "#b8e186"
            ],
            [
             0.8,
             "#7fbc41"
            ],
            [
             0.9,
             "#4d9221"
            ],
            [
             1,
             "#276419"
            ]
           ],
           "sequential": [
            [
             0,
             "#0d0887"
            ],
            [
             0.1111111111111111,
             "#46039f"
            ],
            [
             0.2222222222222222,
             "#7201a8"
            ],
            [
             0.3333333333333333,
             "#9c179e"
            ],
            [
             0.4444444444444444,
             "#bd3786"
            ],
            [
             0.5555555555555556,
             "#d8576b"
            ],
            [
             0.6666666666666666,
             "#ed7953"
            ],
            [
             0.7777777777777778,
             "#fb9f3a"
            ],
            [
             0.8888888888888888,
             "#fdca26"
            ],
            [
             1,
             "#f0f921"
            ]
           ],
           "sequentialminus": [
            [
             0,
             "#0d0887"
            ],
            [
             0.1111111111111111,
             "#46039f"
            ],
            [
             0.2222222222222222,
             "#7201a8"
            ],
            [
             0.3333333333333333,
             "#9c179e"
            ],
            [
             0.4444444444444444,
             "#bd3786"
            ],
            [
             0.5555555555555556,
             "#d8576b"
            ],
            [
             0.6666666666666666,
             "#ed7953"
            ],
            [
             0.7777777777777778,
             "#fb9f3a"
            ],
            [
             0.8888888888888888,
             "#fdca26"
            ],
            [
             1,
             "#f0f921"
            ]
           ]
          },
          "colorway": [
           "#636efa",
           "#EF553B",
           "#00cc96",
           "#ab63fa",
           "#FFA15A",
           "#19d3f3",
           "#FF6692",
           "#B6E880",
           "#FF97FF",
           "#FECB52"
          ],
          "font": {
           "color": "#2a3f5f"
          },
          "geo": {
           "bgcolor": "white",
           "lakecolor": "white",
           "landcolor": "#E5ECF6",
           "showlakes": true,
           "showland": true,
           "subunitcolor": "white"
          },
          "hoverlabel": {
           "align": "left"
          },
          "hovermode": "closest",
          "mapbox": {
           "style": "light"
          },
          "paper_bgcolor": "white",
          "plot_bgcolor": "#E5ECF6",
          "polar": {
           "angularaxis": {
            "gridcolor": "white",
            "linecolor": "white",
            "ticks": ""
           },
           "bgcolor": "#E5ECF6",
           "radialaxis": {
            "gridcolor": "white",
            "linecolor": "white",
            "ticks": ""
           }
          },
          "scene": {
           "xaxis": {
            "backgroundcolor": "#E5ECF6",
            "gridcolor": "white",
            "gridwidth": 2,
            "linecolor": "white",
            "showbackground": true,
            "ticks": "",
            "zerolinecolor": "white"
           },
           "yaxis": {
            "backgroundcolor": "#E5ECF6",
            "gridcolor": "white",
            "gridwidth": 2,
            "linecolor": "white",
            "showbackground": true,
            "ticks": "",
            "zerolinecolor": "white"
           },
           "zaxis": {
            "backgroundcolor": "#E5ECF6",
            "gridcolor": "white",
            "gridwidth": 2,
            "linecolor": "white",
            "showbackground": true,
            "ticks": "",
            "zerolinecolor": "white"
           }
          },
          "shapedefaults": {
           "line": {
            "color": "#2a3f5f"
           }
          },
          "ternary": {
           "aaxis": {
            "gridcolor": "white",
            "linecolor": "white",
            "ticks": ""
           },
           "baxis": {
            "gridcolor": "white",
            "linecolor": "white",
            "ticks": ""
           },
           "bgcolor": "#E5ECF6",
           "caxis": {
            "gridcolor": "white",
            "linecolor": "white",
            "ticks": ""
           }
          },
          "title": {
           "x": 0.05
          },
          "xaxis": {
           "automargin": true,
           "gridcolor": "white",
           "linecolor": "white",
           "ticks": "",
           "title": {
            "standoff": 15
           },
           "zerolinecolor": "white",
           "zerolinewidth": 2
          },
          "yaxis": {
           "automargin": true,
           "gridcolor": "white",
           "linecolor": "white",
           "ticks": "",
           "title": {
            "standoff": 15
           },
           "zerolinecolor": "white",
           "zerolinewidth": 2
          }
         }
        },
        "title": {
         "text": "Gantt Chart"
        },
        "xaxis": {
         "anchor": "y",
         "domain": [
          0,
          1
         ],
         "type": "date"
        },
        "yaxis": {
         "anchor": "x",
         "autorange": "reversed",
         "domain": [
          0,
          1
         ],
         "title": {
          "text": "OvenIndex"
         }
        }
       }
      },
      "text/html": [
       "<div>                            <div id=\"98e90e6d-84b1-488c-80f2-a04b2a930065\" class=\"plotly-graph-div\" style=\"height:525px; width:100%;\"></div>            <script type=\"text/javascript\">                require([\"plotly\"], function(Plotly) {                    window.PLOTLYENV=window.PLOTLYENV || {};                                    if (document.getElementById(\"98e90e6d-84b1-488c-80f2-a04b2a930065\")) {                    Plotly.newPlot(                        \"98e90e6d-84b1-488c-80f2-a04b2a930065\",                        [{\"alignmentgroup\":\"True\",\"base\":[\"2022-02-01T01:02:47\",\"2022-02-01T06:39:47\",\"2022-02-04T03:47:47\",\"2022-02-04T09:01:47\",\"2022-02-04T12:15:47\",\"2022-02-04T20:49:47\",\"2022-02-05T17:38:47\",\"2022-02-06T01:54:47\",\"2022-02-06T04:33:47\",\"2022-02-06T22:30:47\",\"2022-02-07T06:31:47\",\"2022-02-07T15:44:47\",\"2022-02-08T06:20:47\",\"2022-02-08T11:37:47\",\"2022-02-09T03:09:47\",\"2022-02-09T11:02:47\",\"2022-02-11T20:41:47\",\"2022-02-13T14:54:47\",\"2022-02-13T14:54:47\",\"2022-02-14T05:09:47\",\"2022-02-14T12:30:47\",\"2022-02-15T00:03:47\",\"2022-02-15T05:40:47\",\"2022-02-15T08:23:47\",\"2022-02-17T14:38:47\",\"2022-02-17T21:13:47\",\"2022-02-18T02:54:47\",\"2022-02-18T06:40:47\",\"2022-02-20T02:23:47\",\"2022-02-21T04:09:47\",\"2022-02-23T16:37:47\",\"2022-02-23T23:43:47\",\"2022-02-27T17:42:47\",\"2022-02-27T18:59:47\",\"2022-02-28T03:14:47\",\"2022-02-28T05:11:47\"],\"hovertemplate\":\"Product=Rotor A3<br>JobStart=%{base}<br>JobFinish=%{x}<br>OvenIndex=%{y}<extra></extra>\",\"legendgroup\":\"Rotor A3\",\"marker\":{\"color\":\"#636efa\"},\"name\":\"Rotor A3\",\"offsetgroup\":\"Rotor A3\",\"orientation\":\"h\",\"showlegend\":true,\"textposition\":\"auto\",\"x\":[27000000.0,27000000.0,27000000.0,27000000.0,27000000.0,27000000.0,27000000.0,27000000.0,27000000.0,27000000.0,27000000.0,27000000.0,27000000.0,27000000.0,27000000.0,27000000.0,27000000.0,27000000.0,27000000.0,27000000.0,27000000.0,27000000.0,27000000.0,27000000.0,27000000.0,27000000.0,27000000.0,27000000.0,27000000.0,27000000.0,27000000.0,27000000.0,27000000.0,27000000.0,27000000.0,27000000.0],\"xaxis\":\"x\",\"y\":[0,1,4,1,0,2,2,1,5,3,2,2,3,0,3,0,5,0,1,1,0,0,2,3,2,1,2,5,1,2,1,2,0,2,0,3],\"yaxis\":\"y\",\"type\":\"bar\"},{\"alignmentgroup\":\"True\",\"base\":[\"2022-02-01T09:53:47\",\"2022-02-01T16:25:47\",\"2022-02-05T09:48:47\",\"2022-02-07T03:40:47\",\"2022-02-09T03:40:47\",\"2022-02-10T00:31:47\",\"2022-02-10T04:29:47\",\"2022-02-11T20:26:47\",\"2022-02-12T13:56:47\",\"2022-02-12T17:41:47\",\"2022-02-14T23:11:47\",\"2022-02-17T07:12:47\",\"2022-02-18T06:15:47\",\"2022-02-19T22:03:47\",\"2022-02-22T14:34:47\",\"2022-02-22T18:05:47\",\"2022-02-24T22:55:47\",\"2022-02-25T02:15:47\",\"2022-02-26T08:51:47\",\"2022-02-28T06:30:47\",\"2022-02-28T23:11:47\",\"2022-03-01T01:14:47\"],\"hovertemplate\":\"Product=Rotor B3<br>JobStart=%{base}<br>JobFinish=%{x}<br>OvenIndex=%{y}<extra></extra>\",\"legendgroup\":\"Rotor B3\",\"marker\":{\"color\":\"#EF553B\"},\"name\":\"Rotor B3\",\"offsetgroup\":\"Rotor B3\",\"orientation\":\"h\",\"showlegend\":true,\"textposition\":\"auto\",\"x\":[18000000.0,18000000.0,18000000.0,18000000.0,18000000.0,18000000.0,18000000.0,18000000.0,18000000.0,18000000.0,18000000.0,18000000.0,18000000.0,18000000.0,18000000.0,18000000.0,18000000.0,18000000.0,18000000.0,18000000.0,18000000.0,18000000.0],\"xaxis\":\"x\",\"y\":[0,0,1,0,0,1,4,4,0,3,1,2,3,3,0,4,0,1,2,2,0,3],\"yaxis\":\"y\",\"type\":\"bar\"},{\"alignmentgroup\":\"True\",\"base\":[\"2022-02-01T07:06:47\",\"2022-02-01T14:17:47\",\"2022-02-01T23:28:47\",\"2022-02-01T23:53:47\",\"2022-02-02T03:39:47\",\"2022-02-02T13:33:47\",\"2022-02-02T19:16:47\",\"2022-02-03T02:14:47\",\"2022-02-03T04:41:47\",\"2022-02-03T08:31:47\",\"2022-02-03T11:25:47\",\"2022-02-03T13:31:47\",\"2022-02-03T18:31:47\",\"2022-02-03T23:10:47\",\"2022-02-04T17:33:47\",\"2022-02-06T22:20:47\",\"2022-02-07T03:05:47\",\"2022-02-07T17:35:47\",\"2022-02-07T20:25:47\",\"2022-02-08T02:09:47\",\"2022-02-08T04:28:47\",\"2022-02-08T22:52:47\",\"2022-02-09T04:42:47\",\"2022-02-09T16:18:47\",\"2022-02-09T21:20:47\",\"2022-02-10T02:27:47\",\"2022-02-10T05:11:47\",\"2022-02-14T12:59:47\",\"2022-02-14T18:19:47\",\"2022-02-16T20:38:47\",\"2022-02-17T01:29:47\",\"2022-02-18T20:04:47\",\"2022-02-19T10:29:47\",\"2022-02-20T04:49:47\",\"2022-02-20T15:59:47\",\"2022-02-20T19:32:47\",\"2022-02-21T18:27:47\",\"2022-02-21T21:18:47\",\"2022-02-22T12:52:47\",\"2022-02-22T19:09:47\",\"2022-02-22T21:42:47\",\"2022-02-23T15:20:47\",\"2022-02-23T20:40:47\",\"2022-02-24T03:31:47\",\"2022-02-24T08:49:47\",\"2022-02-24T17:40:47\",\"2022-02-25T13:28:47\",\"2022-02-25T17:28:47\",\"2022-02-26T05:20:47\",\"2022-02-26T14:40:47\",\"2022-02-26T20:07:47\",\"2022-02-28T14:01:47\",\"2022-02-28T19:46:47\"],\"hovertemplate\":\"Product=Rotor A2<br>JobStart=%{base}<br>JobFinish=%{x}<br>OvenIndex=%{y}<extra></extra>\",\"legendgroup\":\"Rotor A2\",\"marker\":{\"color\":\"#00cc96\"},\"name\":\"Rotor A2\",\"offsetgroup\":\"Rotor A2\",\"orientation\":\"h\",\"showlegend\":true,\"textposition\":\"auto\",\"x\":[27000000.0,27000000.0,27000000.0,27000000.0,27000000.0,27000000.0,27000000.0,27000000.0,27000000.0,27000000.0,27000000.0,27000000.0,27000000.0,27000000.0,27000000.0,27000000.0,27000000.0,27000000.0,27000000.0,27000000.0,27000000.0,27000000.0,27000000.0,27000000.0,27000000.0,27000000.0,27000000.0,27000000.0,27000000.0,27000000.0,27000000.0,27000000.0,27000000.0,27000000.0,27000000.0,27000000.0,27000000.0,27000000.0,27000000.0,27000000.0,27000000.0,27000000.0,27000000.0,27000000.0,27000000.0,27000000.0,27000000.0,27000000.0,27000000.0,27000000.0,27000000.0,27000000.0,27000000.0],\"xaxis\":\"x\",\"y\":[2,1,0,1,3,1,0,1,0,2,1,3,2,1,4,2,1,4,1,2,1,1,2,2,0,3,0,1,4,2,0,2,1,2,1,4,0,3,1,3,5,2,3,0,1,1,2,0,0,0,4,2,1],\"yaxis\":\"y\",\"type\":\"bar\"},{\"alignmentgroup\":\"True\",\"base\":[\"2022-02-01T03:08:47\",\"2022-02-01T23:34:47\",\"2022-02-06T04:17:47\",\"2022-02-06T04:28:47\",\"2022-02-06T17:10:47\",\"2022-02-06T17:12:47\",\"2022-02-07T09:39:47\",\"2022-02-07T10:03:47\",\"2022-02-08T02:50:47\",\"2022-02-08T04:47:47\",\"2022-02-08T20:02:47\",\"2022-02-08T23:03:47\",\"2022-02-09T12:50:47\",\"2022-02-09T18:14:47\",\"2022-02-10T10:42:47\",\"2022-02-10T17:35:47\",\"2022-02-11T10:43:47\",\"2022-02-11T18:14:47\",\"2022-02-13T16:33:47\",\"2022-02-14T00:29:47\",\"2022-02-14T04:39:47\",\"2022-02-14T14:39:47\",\"2022-02-14T17:27:47\",\"2022-02-16T20:07:47\",\"2022-02-17T01:34:47\",\"2022-02-17T16:13:47\",\"2022-02-18T00:55:47\",\"2022-02-20T02:07:47\",\"2022-02-20T12:46:47\",\"2022-02-20T13:06:47\",\"2022-02-20T21:36:47\",\"2022-02-21T02:57:47\",\"2022-02-21T04:43:47\",\"2022-02-21T07:08:47\",\"2022-02-22T08:35:47\",\"2022-02-22T23:24:47\",\"2022-02-23T04:11:47\",\"2022-02-23T17:31:47\",\"2022-02-24T00:21:47\",\"2022-02-24T05:26:47\",\"2022-02-24T08:49:47\",\"2022-02-25T12:24:47\",\"2022-02-25T16:11:47\",\"2022-02-27T01:09:47\",\"2022-02-27T09:27:47\",\"2022-02-27T12:10:47\",\"2022-02-28T00:36:47\",\"2022-02-28T09:52:47\",\"2022-02-28T14:56:47\",\"2022-02-28T17:32:47\"],\"hovertemplate\":\"Product=Rotor A4<br>JobStart=%{base}<br>JobFinish=%{x}<br>OvenIndex=%{y}<extra></extra>\",\"legendgroup\":\"Rotor A4\",\"marker\":{\"color\":\"#ab63fa\"},\"name\":\"Rotor A4\",\"offsetgroup\":\"Rotor A4\",\"orientation\":\"h\",\"showlegend\":true,\"textposition\":\"auto\",\"x\":[27600000.0,27600000.0,27600000.0,27600000.0,27600000.0,27600000.0,27600000.0,27600000.0,27600000.0,27600000.0,27600000.0,27600000.0,27600000.0,27600000.0,27600000.0,27600000.0,27600000.0,27600000.0,27600000.0,27600000.0,27600000.0,27600000.0,27600000.0,27600000.0,27600000.0,27600000.0,27600000.0,27600000.0,27600000.0,27600000.0,27600000.0,27600000.0,27600000.0,27600000.0,27600000.0,27600000.0,27600000.0,27600000.0,27600000.0,27600000.0,27600000.0,27600000.0,27600000.0,27600000.0,27600000.0,27600000.0,27600000.0,27600000.0,27600000.0,27600000.0],\"xaxis\":\"x\",\"y\":[3,2,0,3,0,1,0,3,0,4,2,5,1,3,4,2,1,2,2,0,2,3,5,1,3,0,0,0,3,0,0,1,3,0,3,0,2,0,1,3,2,1,3,0,0,3,1,1,0,3],\"yaxis\":\"y\",\"type\":\"bar\"},{\"alignmentgroup\":\"True\",\"base\":[\"2022-02-01T06:44:47\",\"2022-02-06T03:09:47\",\"2022-02-06T17:14:47\",\"2022-02-08T20:59:47\",\"2022-02-08T21:00:47\",\"2022-02-10T19:50:47\",\"2022-02-11T09:47:47\",\"2022-02-11T18:08:47\",\"2022-02-11T18:08:47\",\"2022-02-13T08:36:47\",\"2022-02-13T10:52:47\",\"2022-02-13T17:15:47\",\"2022-02-16T01:05:47\",\"2022-02-16T08:52:47\",\"2022-02-16T18:09:47\",\"2022-02-17T05:11:47\",\"2022-02-17T13:38:47\",\"2022-02-18T04:25:47\",\"2022-02-18T20:37:47\",\"2022-02-19T20:15:47\",\"2022-02-21T20:10:47\",\"2022-02-22T12:41:47\",\"2022-02-23T01:33:47\",\"2022-02-23T08:32:47\",\"2022-02-23T12:23:47\",\"2022-02-25T13:13:47\",\"2022-02-26T07:09:47\",\"2022-02-26T14:08:47\",\"2022-02-27T08:25:47\",\"2022-02-27T14:39:47\",\"2022-03-01T04:12:47\"],\"hovertemplate\":\"Product=Rotor C1<br>JobStart=%{base}<br>JobFinish=%{x}<br>OvenIndex=%{y}<extra></extra>\",\"legendgroup\":\"Rotor C1\",\"marker\":{\"color\":\"#FFA15A\"},\"name\":\"Rotor C1\",\"offsetgroup\":\"Rotor C1\",\"orientation\":\"h\",\"showlegend\":true,\"textposition\":\"auto\",\"x\":[14400000.0,14400000.0,14400000.0,14400000.0,14400000.0,14400000.0,14400000.0,14400000.0,14400000.0,14400000.0,14400000.0,14400000.0,14400000.0,14400000.0,14400000.0,14400000.0,14400000.0,14400000.0,14400000.0,14400000.0,14400000.0,14400000.0,14400000.0,14400000.0,14400000.0,14400000.0,14400000.0,14400000.0,14400000.0,14400000.0,14400000.0],\"xaxis\":\"x\",\"y\":[4,2,2,0,3,1,0,0,3,2,3,3,1,1,0,1,1,4,1,0,2,4,4,0,1,0,1,4,1,2,0],\"yaxis\":\"y\",\"type\":\"bar\"},{\"alignmentgroup\":\"True\",\"base\":[\"2022-02-01T12:35:47\",\"2022-02-03T04:40:47\",\"2022-02-04T19:45:47\",\"2022-02-09T17:40:47\",\"2022-02-13T00:32:47\",\"2022-02-14T14:30:47\",\"2022-02-15T05:31:47\",\"2022-02-15T12:38:47\",\"2022-02-19T18:48:47\",\"2022-02-19T22:03:47\",\"2022-02-21T18:32:47\",\"2022-02-22T14:34:47\",\"2022-02-25T00:53:47\",\"2022-02-25T04:51:47\",\"2022-02-25T18:47:47\",\"2022-02-27T13:01:47\",\"2022-03-01T06:16:47\"],\"hovertemplate\":\"Product=Rotor A5<br>JobStart=%{base}<br>JobFinish=%{x}<br>OvenIndex=%{y}<extra></extra>\",\"legendgroup\":\"Rotor A5\",\"marker\":{\"color\":\"#19d3f3\"},\"name\":\"Rotor A5\",\"offsetgroup\":\"Rotor A5\",\"orientation\":\"h\",\"showlegend\":true,\"textposition\":\"auto\",\"x\":[27600000.0,27600000.0,27600000.0,27600000.0,27600000.0,27600000.0,27600000.0,27600000.0,27600000.0,27600000.0,27600000.0,27600000.0,27600000.0,27600000.0,27600000.0,27600000.0,27600000.0],\"xaxis\":\"x\",\"y\":[3,3,0,4,4,2,1,0,2,5,1,2,3,0,4,1,3],\"yaxis\":\"y\",\"type\":\"bar\"},{\"alignmentgroup\":\"True\",\"base\":[\"2022-02-02T11:17:47\",\"2022-02-02T16:27:47\",\"2022-02-05T06:10:47\",\"2022-02-05T16:51:47\",\"2022-02-07T20:40:47\",\"2022-02-10T22:53:47\",\"2022-02-11T03:55:47\",\"2022-02-12T20:11:47\",\"2022-02-19T20:42:47\",\"2022-02-20T00:22:47\",\"2022-02-23T06:55:47\",\"2022-02-23T09:09:47\",\"2022-02-24T16:40:47\",\"2022-02-24T20:32:47\",\"2022-02-27T01:57:47\",\"2022-02-27T09:07:47\",\"2022-03-01T02:45:47\"],\"hovertemplate\":\"Product=Rotor A1<br>JobStart=%{base}<br>JobFinish=%{x}<br>OvenIndex=%{y}<extra></extra>\",\"legendgroup\":\"Rotor A1\",\"marker\":{\"color\":\"#FF6692\"},\"name\":\"Rotor A1\",\"offsetgroup\":\"Rotor A1\",\"orientation\":\"h\",\"showlegend\":true,\"textposition\":\"auto\",\"x\":[19200000.0,19200000.0,19200000.0,19200000.0,19200000.0,19200000.0,19200000.0,19200000.0,19200000.0,19200000.0,19200000.0,19200000.0,19200000.0,19200000.0,19200000.0,19200000.0,19200000.0],\"xaxis\":\"x\",\"y\":[0,2,3,1,3,0,2,0,1,4,1,4,0,2,1,2,2],\"yaxis\":\"y\",\"type\":\"bar\"},{\"alignmentgroup\":\"True\",\"base\":[\"2022-02-03T12:26:47\",\"2022-02-03T12:56:47\",\"2022-02-04T12:53:47\",\"2022-02-12T19:44:47\",\"2022-02-16T08:57:47\",\"2022-02-17T21:11:47\",\"2022-02-18T16:22:47\"],\"hovertemplate\":\"Product=Rotor B6<br>JobStart=%{base}<br>JobFinish=%{x}<br>OvenIndex=%{y}<extra></extra>\",\"legendgroup\":\"Rotor B6\",\"marker\":{\"color\":\"#B6E880\"},\"name\":\"Rotor B6\",\"offsetgroup\":\"Rotor B6\",\"orientation\":\"h\",\"showlegend\":true,\"textposition\":\"auto\",\"x\":[27000000.0,27000000.0,27000000.0,27000000.0,27000000.0,27000000.0,27000000.0],\"xaxis\":\"x\",\"y\":[0,4,2,2,0,3,3],\"yaxis\":\"y\",\"type\":\"bar\"},{\"alignmentgroup\":\"True\",\"base\":[\"2022-02-03T23:10:47\",\"2022-02-04T07:28:47\",\"2022-02-04T19:38:47\",\"2022-02-05T06:38:47\",\"2022-02-15T21:44:47\",\"2022-02-16T03:30:47\",\"2022-02-18T20:13:47\",\"2022-02-19T08:02:47\",\"2022-02-26T14:32:47\",\"2022-02-26T17:30:47\"],\"hovertemplate\":\"Product=Rotor C0<br>JobStart=%{base}<br>JobFinish=%{x}<br>OvenIndex=%{y}<extra></extra>\",\"legendgroup\":\"Rotor C0\",\"marker\":{\"color\":\"#FF97FF\"},\"name\":\"Rotor C0\",\"offsetgroup\":\"Rotor C0\",\"orientation\":\"h\",\"showlegend\":true,\"textposition\":\"auto\",\"x\":[14400000.0,14400000.0,14400000.0,14400000.0,14400000.0,14400000.0,14400000.0,14400000.0,14400000.0,14400000.0],\"xaxis\":\"x\",\"y\":[0,0,1,2,0,0,0,3,2,3],\"yaxis\":\"y\",\"type\":\"bar\"},{\"alignmentgroup\":\"True\",\"base\":[\"2022-02-04T11:02:47\",\"2022-02-05T10:17:47\",\"2022-02-05T20:22:47\",\"2022-02-05T23:00:47\",\"2022-02-08T14:29:47\",\"2022-02-08T18:35:47\",\"2022-02-10T03:53:47\",\"2022-02-10T09:02:47\",\"2022-02-10T15:11:47\",\"2022-02-11T10:08:47\",\"2022-02-11T20:14:47\",\"2022-02-12T12:13:47\",\"2022-02-12T17:53:47\",\"2022-02-12T22:49:47\",\"2022-02-13T06:35:47\",\"2022-02-18T05:13:47\",\"2022-02-18T08:38:47\",\"2022-02-18T20:03:47\",\"2022-02-19T08:32:47\",\"2022-02-20T16:17:47\",\"2022-02-21T23:20:47\",\"2022-02-23T05:29:47\",\"2022-02-23T12:44:47\",\"2022-02-24T03:31:47\",\"2022-02-26T14:39:47\",\"2022-02-26T18:58:47\",\"2022-02-26T21:46:47\",\"2022-02-27T00:31:47\",\"2022-02-28T08:47:47\"],\"hovertemplate\":\"Product=Rotor A6<br>JobStart=%{base}<br>JobFinish=%{x}<br>OvenIndex=%{y}<extra></extra>\",\"legendgroup\":\"Rotor A6\",\"marker\":{\"color\":\"#FECB52\"},\"name\":\"Rotor A6\",\"offsetgroup\":\"Rotor A6\",\"orientation\":\"h\",\"showlegend\":true,\"textposition\":\"auto\",\"x\":[27600000.0,27600000.0,27600000.0,27600000.0,27600000.0,27600000.0,27600000.0,27600000.0,27600000.0,27600000.0,27600000.0,27600000.0,27600000.0,27600000.0,27600000.0,27600000.0,27600000.0,27600000.0,27600000.0,27600000.0,27600000.0,27600000.0,27600000.0,27600000.0,27600000.0,27600000.0,27600000.0,27600000.0,27600000.0],\"xaxis\":\"x\",\"y\":[3,0,0,4,1,4,2,1,0,2,1,4,1,3,1,1,0,4,0,2,4,3,5,4,1,2,3,5,4],\"yaxis\":\"y\",\"type\":\"bar\"},{\"alignmentgroup\":\"True\",\"base\":[\"2022-02-07T13:09:47\",\"2022-02-07T18:24:47\",\"2022-02-11T00:27:47\",\"2022-02-11T04:13:47\"],\"hovertemplate\":\"Product=Rotor C3<br>JobStart=%{base}<br>JobFinish=%{x}<br>OvenIndex=%{y}<extra></extra>\",\"legendgroup\":\"Rotor C3\",\"marker\":{\"color\":\"#636efa\"},\"name\":\"Rotor C3\",\"offsetgroup\":\"Rotor C3\",\"orientation\":\"h\",\"showlegend\":true,\"textposition\":\"auto\",\"x\":[16200000.0,16200000.0,16200000.0,16200000.0],\"xaxis\":\"x\",\"y\":[1,0,1,0],\"yaxis\":\"y\",\"type\":\"bar\"}],                        {\"template\":{\"data\":{\"histogram2dcontour\":[{\"type\":\"histogram2dcontour\",\"colorbar\":{\"outlinewidth\":0,\"ticks\":\"\"},\"colorscale\":[[0.0,\"#0d0887\"],[0.1111111111111111,\"#46039f\"],[0.2222222222222222,\"#7201a8\"],[0.3333333333333333,\"#9c179e\"],[0.4444444444444444,\"#bd3786\"],[0.5555555555555556,\"#d8576b\"],[0.6666666666666666,\"#ed7953\"],[0.7777777777777778,\"#fb9f3a\"],[0.8888888888888888,\"#fdca26\"],[1.0,\"#f0f921\"]]}],\"choropleth\":[{\"type\":\"choropleth\",\"colorbar\":{\"outlinewidth\":0,\"ticks\":\"\"}}],\"histogram2d\":[{\"type\":\"histogram2d\",\"colorbar\":{\"outlinewidth\":0,\"ticks\":\"\"},\"colorscale\":[[0.0,\"#0d0887\"],[0.1111111111111111,\"#46039f\"],[0.2222222222222222,\"#7201a8\"],[0.3333333333333333,\"#9c179e\"],[0.4444444444444444,\"#bd3786\"],[0.5555555555555556,\"#d8576b\"],[0.6666666666666666,\"#ed7953\"],[0.7777777777777778,\"#fb9f3a\"],[0.8888888888888888,\"#fdca26\"],[1.0,\"#f0f921\"]]}],\"heatmap\":[{\"type\":\"heatmap\",\"colorbar\":{\"outlinewidth\":0,\"ticks\":\"\"},\"colorscale\":[[0.0,\"#0d0887\"],[0.1111111111111111,\"#46039f\"],[0.2222222222222222,\"#7201a8\"],[0.3333333333333333,\"#9c179e\"],[0.4444444444444444,\"#bd3786\"],[0.5555555555555556,\"#d8576b\"],[0.6666666666666666,\"#ed7953\"],[0.7777777777777778,\"#fb9f3a\"],[0.8888888888888888,\"#fdca26\"],[1.0,\"#f0f921\"]]}],\"heatmapgl\":[{\"type\":\"heatmapgl\",\"colorbar\":{\"outlinewidth\":0,\"ticks\":\"\"},\"colorscale\":[[0.0,\"#0d0887\"],[0.1111111111111111,\"#46039f\"],[0.2222222222222222,\"#7201a8\"],[0.3333333333333333,\"#9c179e\"],[0.4444444444444444,\"#bd3786\"],[0.5555555555555556,\"#d8576b\"],[0.6666666666666666,\"#ed7953\"],[0.7777777777777778,\"#fb9f3a\"],[0.8888888888888888,\"#fdca26\"],[1.0,\"#f0f921\"]]}],\"contourcarpet\":[{\"type\":\"contourcarpet\",\"colorbar\":{\"outlinewidth\":0,\"ticks\":\"\"}}],\"contour\":[{\"type\":\"contour\",\"colorbar\":{\"outlinewidth\":0,\"ticks\":\"\"},\"colorscale\":[[0.0,\"#0d0887\"],[0.1111111111111111,\"#46039f\"],[0.2222222222222222,\"#7201a8\"],[0.3333333333333333,\"#9c179e\"],[0.4444444444444444,\"#bd3786\"],[0.5555555555555556,\"#d8576b\"],[0.6666666666666666,\"#ed7953\"],[0.7777777777777778,\"#fb9f3a\"],[0.8888888888888888,\"#fdca26\"],[1.0,\"#f0f921\"]]}],\"surface\":[{\"type\":\"surface\",\"colorbar\":{\"outlinewidth\":0,\"ticks\":\"\"},\"colorscale\":[[0.0,\"#0d0887\"],[0.1111111111111111,\"#46039f\"],[0.2222222222222222,\"#7201a8\"],[0.3333333333333333,\"#9c179e\"],[0.4444444444444444,\"#bd3786\"],[0.5555555555555556,\"#d8576b\"],[0.6666666666666666,\"#ed7953\"],[0.7777777777777778,\"#fb9f3a\"],[0.8888888888888888,\"#fdca26\"],[1.0,\"#f0f921\"]]}],\"mesh3d\":[{\"type\":\"mesh3d\",\"colorbar\":{\"outlinewidth\":0,\"ticks\":\"\"}}],\"scatter\":[{\"fillpattern\":{\"fillmode\":\"overlay\",\"size\":10,\"solidity\":0.2},\"type\":\"scatter\"}],\"parcoords\":[{\"type\":\"parcoords\",\"line\":{\"colorbar\":{\"outlinewidth\":0,\"ticks\":\"\"}}}],\"scatterpolargl\":[{\"type\":\"scatterpolargl\",\"marker\":{\"colorbar\":{\"outlinewidth\":0,\"ticks\":\"\"}}}],\"bar\":[{\"error_x\":{\"color\":\"#2a3f5f\"},\"error_y\":{\"color\":\"#2a3f5f\"},\"marker\":{\"line\":{\"color\":\"#E5ECF6\",\"width\":0.5},\"pattern\":{\"fillmode\":\"overlay\",\"size\":10,\"solidity\":0.2}},\"type\":\"bar\"}],\"scattergeo\":[{\"type\":\"scattergeo\",\"marker\":{\"colorbar\":{\"outlinewidth\":0,\"ticks\":\"\"}}}],\"scatterpolar\":[{\"type\":\"scatterpolar\",\"marker\":{\"colorbar\":{\"outlinewidth\":0,\"ticks\":\"\"}}}],\"histogram\":[{\"marker\":{\"pattern\":{\"fillmode\":\"overlay\",\"size\":10,\"solidity\":0.2}},\"type\":\"histogram\"}],\"scattergl\":[{\"type\":\"scattergl\",\"marker\":{\"colorbar\":{\"outlinewidth\":0,\"ticks\":\"\"}}}],\"scatter3d\":[{\"type\":\"scatter3d\",\"line\":{\"colorbar\":{\"outlinewidth\":0,\"ticks\":\"\"}},\"marker\":{\"colorbar\":{\"outlinewidth\":0,\"ticks\":\"\"}}}],\"scattermapbox\":[{\"type\":\"scattermapbox\",\"marker\":{\"colorbar\":{\"outlinewidth\":0,\"ticks\":\"\"}}}],\"scatterternary\":[{\"type\":\"scatterternary\",\"marker\":{\"colorbar\":{\"outlinewidth\":0,\"ticks\":\"\"}}}],\"scattercarpet\":[{\"type\":\"scattercarpet\",\"marker\":{\"colorbar\":{\"outlinewidth\":0,\"ticks\":\"\"}}}],\"carpet\":[{\"aaxis\":{\"endlinecolor\":\"#2a3f5f\",\"gridcolor\":\"white\",\"linecolor\":\"white\",\"minorgridcolor\":\"white\",\"startlinecolor\":\"#2a3f5f\"},\"baxis\":{\"endlinecolor\":\"#2a3f5f\",\"gridcolor\":\"white\",\"linecolor\":\"white\",\"minorgridcolor\":\"white\",\"startlinecolor\":\"#2a3f5f\"},\"type\":\"carpet\"}],\"table\":[{\"cells\":{\"fill\":{\"color\":\"#EBF0F8\"},\"line\":{\"color\":\"white\"}},\"header\":{\"fill\":{\"color\":\"#C8D4E3\"},\"line\":{\"color\":\"white\"}},\"type\":\"table\"}],\"barpolar\":[{\"marker\":{\"line\":{\"color\":\"#E5ECF6\",\"width\":0.5},\"pattern\":{\"fillmode\":\"overlay\",\"size\":10,\"solidity\":0.2}},\"type\":\"barpolar\"}],\"pie\":[{\"automargin\":true,\"type\":\"pie\"}]},\"layout\":{\"autotypenumbers\":\"strict\",\"colorway\":[\"#636efa\",\"#EF553B\",\"#00cc96\",\"#ab63fa\",\"#FFA15A\",\"#19d3f3\",\"#FF6692\",\"#B6E880\",\"#FF97FF\",\"#FECB52\"],\"font\":{\"color\":\"#2a3f5f\"},\"hovermode\":\"closest\",\"hoverlabel\":{\"align\":\"left\"},\"paper_bgcolor\":\"white\",\"plot_bgcolor\":\"#E5ECF6\",\"polar\":{\"bgcolor\":\"#E5ECF6\",\"angularaxis\":{\"gridcolor\":\"white\",\"linecolor\":\"white\",\"ticks\":\"\"},\"radialaxis\":{\"gridcolor\":\"white\",\"linecolor\":\"white\",\"ticks\":\"\"}},\"ternary\":{\"bgcolor\":\"#E5ECF6\",\"aaxis\":{\"gridcolor\":\"white\",\"linecolor\":\"white\",\"ticks\":\"\"},\"baxis\":{\"gridcolor\":\"white\",\"linecolor\":\"white\",\"ticks\":\"\"},\"caxis\":{\"gridcolor\":\"white\",\"linecolor\":\"white\",\"ticks\":\"\"}},\"coloraxis\":{\"colorbar\":{\"outlinewidth\":0,\"ticks\":\"\"}},\"colorscale\":{\"sequential\":[[0.0,\"#0d0887\"],[0.1111111111111111,\"#46039f\"],[0.2222222222222222,\"#7201a8\"],[0.3333333333333333,\"#9c179e\"],[0.4444444444444444,\"#bd3786\"],[0.5555555555555556,\"#d8576b\"],[0.6666666666666666,\"#ed7953\"],[0.7777777777777778,\"#fb9f3a\"],[0.8888888888888888,\"#fdca26\"],[1.0,\"#f0f921\"]],\"sequentialminus\":[[0.0,\"#0d0887\"],[0.1111111111111111,\"#46039f\"],[0.2222222222222222,\"#7201a8\"],[0.3333333333333333,\"#9c179e\"],[0.4444444444444444,\"#bd3786\"],[0.5555555555555556,\"#d8576b\"],[0.6666666666666666,\"#ed7953\"],[0.7777777777777778,\"#fb9f3a\"],[0.8888888888888888,\"#fdca26\"],[1.0,\"#f0f921\"]],\"diverging\":[[0,\"#8e0152\"],[0.1,\"#c51b7d\"],[0.2,\"#de77ae\"],[0.3,\"#f1b6da\"],[0.4,\"#fde0ef\"],[0.5,\"#f7f7f7\"],[0.6,\"#e6f5d0\"],[0.7,\"#b8e186\"],[0.8,\"#7fbc41\"],[0.9,\"#4d9221\"],[1,\"#276419\"]]},\"xaxis\":{\"gridcolor\":\"white\",\"linecolor\":\"white\",\"ticks\":\"\",\"title\":{\"standoff\":15},\"zerolinecolor\":\"white\",\"automargin\":true,\"zerolinewidth\":2},\"yaxis\":{\"gridcolor\":\"white\",\"linecolor\":\"white\",\"ticks\":\"\",\"title\":{\"standoff\":15},\"zerolinecolor\":\"white\",\"automargin\":true,\"zerolinewidth\":2},\"scene\":{\"xaxis\":{\"backgroundcolor\":\"#E5ECF6\",\"gridcolor\":\"white\",\"linecolor\":\"white\",\"showbackground\":true,\"ticks\":\"\",\"zerolinecolor\":\"white\",\"gridwidth\":2},\"yaxis\":{\"backgroundcolor\":\"#E5ECF6\",\"gridcolor\":\"white\",\"linecolor\":\"white\",\"showbackground\":true,\"ticks\":\"\",\"zerolinecolor\":\"white\",\"gridwidth\":2},\"zaxis\":{\"backgroundcolor\":\"#E5ECF6\",\"gridcolor\":\"white\",\"linecolor\":\"white\",\"showbackground\":true,\"ticks\":\"\",\"zerolinecolor\":\"white\",\"gridwidth\":2}},\"shapedefaults\":{\"line\":{\"color\":\"#2a3f5f\"}},\"annotationdefaults\":{\"arrowcolor\":\"#2a3f5f\",\"arrowhead\":0,\"arrowwidth\":1},\"geo\":{\"bgcolor\":\"white\",\"landcolor\":\"#E5ECF6\",\"subunitcolor\":\"white\",\"showland\":true,\"showlakes\":true,\"lakecolor\":\"white\"},\"title\":{\"x\":0.05},\"mapbox\":{\"style\":\"light\"}}},\"xaxis\":{\"anchor\":\"y\",\"domain\":[0.0,1.0],\"type\":\"date\"},\"yaxis\":{\"anchor\":\"x\",\"domain\":[0.0,1.0],\"title\":{\"text\":\"OvenIndex\"},\"autorange\":\"reversed\"},\"legend\":{\"title\":{\"text\":\"Product\"},\"tracegroupgap\":0},\"title\":{\"text\":\"Gantt Chart\"},\"barmode\":\"overlay\"},                        {\"responsive\": true}                    ).then(function(){\n",
       "                            \n",
       "var gd = document.getElementById('98e90e6d-84b1-488c-80f2-a04b2a930065');\n",
       "var x = new MutationObserver(function (mutations, observer) {{\n",
       "        var display = window.getComputedStyle(gd).display;\n",
       "        if (!display || display === 'none') {{\n",
       "            console.log([gd, 'removed!']);\n",
       "            Plotly.purge(gd);\n",
       "            observer.disconnect();\n",
       "        }}\n",
       "}});\n",
       "\n",
       "// Listen for the removal of the full notebook cells\n",
       "var notebookContainer = gd.closest('#notebook-container');\n",
       "if (notebookContainer) {{\n",
       "    x.observe(notebookContainer, {childList: true});\n",
       "}}\n",
       "\n",
       "// Listen for the clearing of the current output cell\n",
       "var outputEl = gd.closest('.output');\n",
       "if (outputEl) {{\n",
       "    x.observe(outputEl, {childList: true});\n",
       "}}\n",
       "\n",
       "                        })                };                });            </script>        </div>"
      ]
     },
     "metadata": {},
     "output_type": "display_data"
    }
   ],
   "source": [
    "fig = px.timeline(nodes_df, x_start='JobStart', x_end='JobFinish', y=\"OvenIndex\", color=\"Product\", title=\"Gantt Chart\")\n",
    "fig.update_yaxes(autorange=\"reversed\")\n",
    "fig.show()"
   ]
  },
  {
   "cell_type": "code",
   "execution_count": 18,
   "id": "c081a614",
   "metadata": {},
   "outputs": [
    {
     "data": {
      "text/plain": [
       "79482.94809000002"
      ]
     },
     "execution_count": 18,
     "metadata": {},
     "output_type": "execute_result"
    }
   ],
   "source": [
    "nodes_df['DifTemperature'].sum()"
   ]
  },
  {
   "cell_type": "code",
   "execution_count": null,
   "id": "04fdfbd7",
   "metadata": {},
   "outputs": [],
   "source": [
    "nodes_df['DifTemperature'].sum()"
   ]
  },
  {
   "cell_type": "code",
   "execution_count": 27,
   "id": "bc4c570b",
   "metadata": {},
   "outputs": [],
   "source": [
    "oven_6_time = nodes_df[nodes_df['OvenIndex']==5]['Duration'].sum()"
   ]
  },
  {
   "cell_type": "code",
   "execution_count": 28,
   "id": "82e1715f",
   "metadata": {},
   "outputs": [],
   "source": [
    "total_process_time = nodes_df[['EnterTime', 'Duration']].sum(axis=1).max()"
   ]
  },
  {
   "cell_type": "code",
   "execution_count": 29,
   "id": "bfa342bb",
   "metadata": {},
   "outputs": [
    {
     "data": {
      "text/plain": [
       "0.0997688283246137"
      ]
     },
     "execution_count": 29,
     "metadata": {},
     "output_type": "execute_result"
    }
   ],
   "source": [
    "oven_6_time/total_process_time"
   ]
  },
  {
   "cell_type": "code",
   "execution_count": 40,
   "id": "f074fe86",
   "metadata": {},
   "outputs": [
    {
     "data": {
      "application/vnd.plotly.v1+json": {
       "config": {
        "plotlyServerURL": "https://plot.ly"
       },
       "data": [
        {
         "alignmentgroup": "True",
         "bingroup": "x",
         "hovertemplate": "MeanWaitingTime=%{x}<br>count=%{y}<extra></extra>",
         "legendgroup": "",
         "marker": {
          "color": "#636efa",
          "pattern": {
           "shape": ""
          }
         },
         "name": "",
         "offsetgroup": "",
         "orientation": "v",
         "showlegend": false,
         "type": "histogram",
         "x": [
          0.5,
          69.5,
          2.3333333333333335,
          114.5,
          0,
          0,
          88.33333333333333,
          0,
          0,
          162,
          1.6666666666666667,
          1,
          60.5,
          59,
          89.33333333333333,
          43,
          66,
          184.66666666666666,
          42,
          41,
          23,
          68,
          0,
          4,
          7.5,
          0,
          48,
          168.33333333333334,
          42,
          0,
          66.5,
          5.5,
          20,
          102.33333333333333,
          0,
          53.5,
          0,
          0,
          8,
          53.5,
          0,
          0,
          135,
          80,
          105.5,
          143,
          81.5,
          49.333333333333336,
          0.5,
          0,
          0,
          151.66666666666666,
          0.3333333333333333,
          102.5,
          81.5,
          97.5,
          40,
          71,
          76.5,
          74,
          117.5,
          0.5,
          78.5,
          0,
          103.5,
          11,
          124,
          0,
          77.5,
          0,
          102,
          74,
          0,
          109,
          120.66666666666667,
          136.33333333333334,
          81,
          0,
          0,
          69.5,
          66,
          98,
          0,
          0.5,
          167.5,
          154,
          60.5,
          85,
          30.5,
          0,
          29,
          69.5,
          45.5,
          82.5,
          98.5,
          0,
          80.5,
          31.5,
          91.5,
          48,
          0,
          91.5,
          52.5,
          132,
          59,
          168,
          98,
          0.5,
          0.5,
          0,
          0,
          0,
          176.5,
          56.5,
          86,
          137,
          40.5,
          0,
          18,
          62.5,
          0.5,
          197.66666666666666,
          0,
          0,
          0,
          73,
          0,
          1,
          129.5,
          0,
          0.5,
          160.5,
          54.5,
          56.5,
          90.5,
          23.333333333333332,
          104,
          0,
          0,
          64,
          102.5,
          0,
          103,
          0,
          0,
          0.5,
          0,
          0.5,
          82,
          97,
          70.5,
          64,
          93.33333333333333,
          51.5,
          136,
          147,
          0,
          99.5,
          44.5,
          146.33333333333334,
          53,
          54.5,
          66,
          0,
          0,
          0,
          0.5,
          55.5,
          37,
          12,
          78.5,
          58,
          48,
          52,
          109.33333333333333,
          152.33333333333334,
          172,
          47,
          0,
          71.5,
          0,
          0,
          196,
          0,
          10,
          30,
          39.5,
          84,
          67.66666666666667,
          0,
          205,
          52.5,
          0,
          10.5,
          30,
          0,
          0,
          0,
          118,
          5,
          105,
          0,
          0,
          79.5,
          0,
          73.5,
          0.5,
          120.66666666666667,
          59,
          0,
          69,
          45,
          0,
          0,
          166.66666666666666,
          82.5,
          95,
          0,
          88.5,
          0.5,
          79.5,
          106,
          134,
          78,
          51,
          125.5,
          0,
          168.5,
          49,
          124,
          99,
          41.5,
          0,
          162,
          0.5,
          86.5,
          0,
          0,
          0,
          0.5,
          1.5,
          99.5,
          63.5,
          113.5,
          114.5,
          1.5,
          57,
          0,
          57,
          41,
          137.33333333333334,
          84,
          76.5,
          131.66666666666666,
          0,
          6,
          81.5,
          124,
          24.666666666666668,
          0,
          38,
          128.66666666666666,
          148.66666666666666,
          191.5,
          0,
          0,
          137.5,
          68.5,
          0,
          71,
          90,
          0,
          101,
          0,
          0,
          0
         ],
         "xaxis": "x",
         "yaxis": "y"
        }
       ],
       "layout": {
        "barmode": "relative",
        "legend": {
         "tracegroupgap": 0
        },
        "margin": {
         "t": 60
        },
        "template": {
         "data": {
          "bar": [
           {
            "error_x": {
             "color": "#2a3f5f"
            },
            "error_y": {
             "color": "#2a3f5f"
            },
            "marker": {
             "line": {
              "color": "#E5ECF6",
              "width": 0.5
             },
             "pattern": {
              "fillmode": "overlay",
              "size": 10,
              "solidity": 0.2
             }
            },
            "type": "bar"
           }
          ],
          "barpolar": [
           {
            "marker": {
             "line": {
              "color": "#E5ECF6",
              "width": 0.5
             },
             "pattern": {
              "fillmode": "overlay",
              "size": 10,
              "solidity": 0.2
             }
            },
            "type": "barpolar"
           }
          ],
          "carpet": [
           {
            "aaxis": {
             "endlinecolor": "#2a3f5f",
             "gridcolor": "white",
             "linecolor": "white",
             "minorgridcolor": "white",
             "startlinecolor": "#2a3f5f"
            },
            "baxis": {
             "endlinecolor": "#2a3f5f",
             "gridcolor": "white",
             "linecolor": "white",
             "minorgridcolor": "white",
             "startlinecolor": "#2a3f5f"
            },
            "type": "carpet"
           }
          ],
          "choropleth": [
           {
            "colorbar": {
             "outlinewidth": 0,
             "ticks": ""
            },
            "type": "choropleth"
           }
          ],
          "contour": [
           {
            "colorbar": {
             "outlinewidth": 0,
             "ticks": ""
            },
            "colorscale": [
             [
              0,
              "#0d0887"
             ],
             [
              0.1111111111111111,
              "#46039f"
             ],
             [
              0.2222222222222222,
              "#7201a8"
             ],
             [
              0.3333333333333333,
              "#9c179e"
             ],
             [
              0.4444444444444444,
              "#bd3786"
             ],
             [
              0.5555555555555556,
              "#d8576b"
             ],
             [
              0.6666666666666666,
              "#ed7953"
             ],
             [
              0.7777777777777778,
              "#fb9f3a"
             ],
             [
              0.8888888888888888,
              "#fdca26"
             ],
             [
              1,
              "#f0f921"
             ]
            ],
            "type": "contour"
           }
          ],
          "contourcarpet": [
           {
            "colorbar": {
             "outlinewidth": 0,
             "ticks": ""
            },
            "type": "contourcarpet"
           }
          ],
          "heatmap": [
           {
            "colorbar": {
             "outlinewidth": 0,
             "ticks": ""
            },
            "colorscale": [
             [
              0,
              "#0d0887"
             ],
             [
              0.1111111111111111,
              "#46039f"
             ],
             [
              0.2222222222222222,
              "#7201a8"
             ],
             [
              0.3333333333333333,
              "#9c179e"
             ],
             [
              0.4444444444444444,
              "#bd3786"
             ],
             [
              0.5555555555555556,
              "#d8576b"
             ],
             [
              0.6666666666666666,
              "#ed7953"
             ],
             [
              0.7777777777777778,
              "#fb9f3a"
             ],
             [
              0.8888888888888888,
              "#fdca26"
             ],
             [
              1,
              "#f0f921"
             ]
            ],
            "type": "heatmap"
           }
          ],
          "heatmapgl": [
           {
            "colorbar": {
             "outlinewidth": 0,
             "ticks": ""
            },
            "colorscale": [
             [
              0,
              "#0d0887"
             ],
             [
              0.1111111111111111,
              "#46039f"
             ],
             [
              0.2222222222222222,
              "#7201a8"
             ],
             [
              0.3333333333333333,
              "#9c179e"
             ],
             [
              0.4444444444444444,
              "#bd3786"
             ],
             [
              0.5555555555555556,
              "#d8576b"
             ],
             [
              0.6666666666666666,
              "#ed7953"
             ],
             [
              0.7777777777777778,
              "#fb9f3a"
             ],
             [
              0.8888888888888888,
              "#fdca26"
             ],
             [
              1,
              "#f0f921"
             ]
            ],
            "type": "heatmapgl"
           }
          ],
          "histogram": [
           {
            "marker": {
             "pattern": {
              "fillmode": "overlay",
              "size": 10,
              "solidity": 0.2
             }
            },
            "type": "histogram"
           }
          ],
          "histogram2d": [
           {
            "colorbar": {
             "outlinewidth": 0,
             "ticks": ""
            },
            "colorscale": [
             [
              0,
              "#0d0887"
             ],
             [
              0.1111111111111111,
              "#46039f"
             ],
             [
              0.2222222222222222,
              "#7201a8"
             ],
             [
              0.3333333333333333,
              "#9c179e"
             ],
             [
              0.4444444444444444,
              "#bd3786"
             ],
             [
              0.5555555555555556,
              "#d8576b"
             ],
             [
              0.6666666666666666,
              "#ed7953"
             ],
             [
              0.7777777777777778,
              "#fb9f3a"
             ],
             [
              0.8888888888888888,
              "#fdca26"
             ],
             [
              1,
              "#f0f921"
             ]
            ],
            "type": "histogram2d"
           }
          ],
          "histogram2dcontour": [
           {
            "colorbar": {
             "outlinewidth": 0,
             "ticks": ""
            },
            "colorscale": [
             [
              0,
              "#0d0887"
             ],
             [
              0.1111111111111111,
              "#46039f"
             ],
             [
              0.2222222222222222,
              "#7201a8"
             ],
             [
              0.3333333333333333,
              "#9c179e"
             ],
             [
              0.4444444444444444,
              "#bd3786"
             ],
             [
              0.5555555555555556,
              "#d8576b"
             ],
             [
              0.6666666666666666,
              "#ed7953"
             ],
             [
              0.7777777777777778,
              "#fb9f3a"
             ],
             [
              0.8888888888888888,
              "#fdca26"
             ],
             [
              1,
              "#f0f921"
             ]
            ],
            "type": "histogram2dcontour"
           }
          ],
          "mesh3d": [
           {
            "colorbar": {
             "outlinewidth": 0,
             "ticks": ""
            },
            "type": "mesh3d"
           }
          ],
          "parcoords": [
           {
            "line": {
             "colorbar": {
              "outlinewidth": 0,
              "ticks": ""
             }
            },
            "type": "parcoords"
           }
          ],
          "pie": [
           {
            "automargin": true,
            "type": "pie"
           }
          ],
          "scatter": [
           {
            "fillpattern": {
             "fillmode": "overlay",
             "size": 10,
             "solidity": 0.2
            },
            "type": "scatter"
           }
          ],
          "scatter3d": [
           {
            "line": {
             "colorbar": {
              "outlinewidth": 0,
              "ticks": ""
             }
            },
            "marker": {
             "colorbar": {
              "outlinewidth": 0,
              "ticks": ""
             }
            },
            "type": "scatter3d"
           }
          ],
          "scattercarpet": [
           {
            "marker": {
             "colorbar": {
              "outlinewidth": 0,
              "ticks": ""
             }
            },
            "type": "scattercarpet"
           }
          ],
          "scattergeo": [
           {
            "marker": {
             "colorbar": {
              "outlinewidth": 0,
              "ticks": ""
             }
            },
            "type": "scattergeo"
           }
          ],
          "scattergl": [
           {
            "marker": {
             "colorbar": {
              "outlinewidth": 0,
              "ticks": ""
             }
            },
            "type": "scattergl"
           }
          ],
          "scattermapbox": [
           {
            "marker": {
             "colorbar": {
              "outlinewidth": 0,
              "ticks": ""
             }
            },
            "type": "scattermapbox"
           }
          ],
          "scatterpolar": [
           {
            "marker": {
             "colorbar": {
              "outlinewidth": 0,
              "ticks": ""
             }
            },
            "type": "scatterpolar"
           }
          ],
          "scatterpolargl": [
           {
            "marker": {
             "colorbar": {
              "outlinewidth": 0,
              "ticks": ""
             }
            },
            "type": "scatterpolargl"
           }
          ],
          "scatterternary": [
           {
            "marker": {
             "colorbar": {
              "outlinewidth": 0,
              "ticks": ""
             }
            },
            "type": "scatterternary"
           }
          ],
          "surface": [
           {
            "colorbar": {
             "outlinewidth": 0,
             "ticks": ""
            },
            "colorscale": [
             [
              0,
              "#0d0887"
             ],
             [
              0.1111111111111111,
              "#46039f"
             ],
             [
              0.2222222222222222,
              "#7201a8"
             ],
             [
              0.3333333333333333,
              "#9c179e"
             ],
             [
              0.4444444444444444,
              "#bd3786"
             ],
             [
              0.5555555555555556,
              "#d8576b"
             ],
             [
              0.6666666666666666,
              "#ed7953"
             ],
             [
              0.7777777777777778,
              "#fb9f3a"
             ],
             [
              0.8888888888888888,
              "#fdca26"
             ],
             [
              1,
              "#f0f921"
             ]
            ],
            "type": "surface"
           }
          ],
          "table": [
           {
            "cells": {
             "fill": {
              "color": "#EBF0F8"
             },
             "line": {
              "color": "white"
             }
            },
            "header": {
             "fill": {
              "color": "#C8D4E3"
             },
             "line": {
              "color": "white"
             }
            },
            "type": "table"
           }
          ]
         },
         "layout": {
          "annotationdefaults": {
           "arrowcolor": "#2a3f5f",
           "arrowhead": 0,
           "arrowwidth": 1
          },
          "autotypenumbers": "strict",
          "coloraxis": {
           "colorbar": {
            "outlinewidth": 0,
            "ticks": ""
           }
          },
          "colorscale": {
           "diverging": [
            [
             0,
             "#8e0152"
            ],
            [
             0.1,
             "#c51b7d"
            ],
            [
             0.2,
             "#de77ae"
            ],
            [
             0.3,
             "#f1b6da"
            ],
            [
             0.4,
             "#fde0ef"
            ],
            [
             0.5,
             "#f7f7f7"
            ],
            [
             0.6,
             "#e6f5d0"
            ],
            [
             0.7,
             "#b8e186"
            ],
            [
             0.8,
             "#7fbc41"
            ],
            [
             0.9,
             "#4d9221"
            ],
            [
             1,
             "#276419"
            ]
           ],
           "sequential": [
            [
             0,
             "#0d0887"
            ],
            [
             0.1111111111111111,
             "#46039f"
            ],
            [
             0.2222222222222222,
             "#7201a8"
            ],
            [
             0.3333333333333333,
             "#9c179e"
            ],
            [
             0.4444444444444444,
             "#bd3786"
            ],
            [
             0.5555555555555556,
             "#d8576b"
            ],
            [
             0.6666666666666666,
             "#ed7953"
            ],
            [
             0.7777777777777778,
             "#fb9f3a"
            ],
            [
             0.8888888888888888,
             "#fdca26"
            ],
            [
             1,
             "#f0f921"
            ]
           ],
           "sequentialminus": [
            [
             0,
             "#0d0887"
            ],
            [
             0.1111111111111111,
             "#46039f"
            ],
            [
             0.2222222222222222,
             "#7201a8"
            ],
            [
             0.3333333333333333,
             "#9c179e"
            ],
            [
             0.4444444444444444,
             "#bd3786"
            ],
            [
             0.5555555555555556,
             "#d8576b"
            ],
            [
             0.6666666666666666,
             "#ed7953"
            ],
            [
             0.7777777777777778,
             "#fb9f3a"
            ],
            [
             0.8888888888888888,
             "#fdca26"
            ],
            [
             1,
             "#f0f921"
            ]
           ]
          },
          "colorway": [
           "#636efa",
           "#EF553B",
           "#00cc96",
           "#ab63fa",
           "#FFA15A",
           "#19d3f3",
           "#FF6692",
           "#B6E880",
           "#FF97FF",
           "#FECB52"
          ],
          "font": {
           "color": "#2a3f5f"
          },
          "geo": {
           "bgcolor": "white",
           "lakecolor": "white",
           "landcolor": "#E5ECF6",
           "showlakes": true,
           "showland": true,
           "subunitcolor": "white"
          },
          "hoverlabel": {
           "align": "left"
          },
          "hovermode": "closest",
          "mapbox": {
           "style": "light"
          },
          "paper_bgcolor": "white",
          "plot_bgcolor": "#E5ECF6",
          "polar": {
           "angularaxis": {
            "gridcolor": "white",
            "linecolor": "white",
            "ticks": ""
           },
           "bgcolor": "#E5ECF6",
           "radialaxis": {
            "gridcolor": "white",
            "linecolor": "white",
            "ticks": ""
           }
          },
          "scene": {
           "xaxis": {
            "backgroundcolor": "#E5ECF6",
            "gridcolor": "white",
            "gridwidth": 2,
            "linecolor": "white",
            "showbackground": true,
            "ticks": "",
            "zerolinecolor": "white"
           },
           "yaxis": {
            "backgroundcolor": "#E5ECF6",
            "gridcolor": "white",
            "gridwidth": 2,
            "linecolor": "white",
            "showbackground": true,
            "ticks": "",
            "zerolinecolor": "white"
           },
           "zaxis": {
            "backgroundcolor": "#E5ECF6",
            "gridcolor": "white",
            "gridwidth": 2,
            "linecolor": "white",
            "showbackground": true,
            "ticks": "",
            "zerolinecolor": "white"
           }
          },
          "shapedefaults": {
           "line": {
            "color": "#2a3f5f"
           }
          },
          "ternary": {
           "aaxis": {
            "gridcolor": "white",
            "linecolor": "white",
            "ticks": ""
           },
           "baxis": {
            "gridcolor": "white",
            "linecolor": "white",
            "ticks": ""
           },
           "bgcolor": "#E5ECF6",
           "caxis": {
            "gridcolor": "white",
            "linecolor": "white",
            "ticks": ""
           }
          },
          "title": {
           "x": 0.05
          },
          "xaxis": {
           "automargin": true,
           "gridcolor": "white",
           "linecolor": "white",
           "ticks": "",
           "title": {
            "standoff": 15
           },
           "zerolinecolor": "white",
           "zerolinewidth": 2
          },
          "yaxis": {
           "automargin": true,
           "gridcolor": "white",
           "linecolor": "white",
           "ticks": "",
           "title": {
            "standoff": 15
           },
           "zerolinecolor": "white",
           "zerolinewidth": 2
          }
         }
        },
        "xaxis": {
         "anchor": "y",
         "domain": [
          0,
          1
         ],
         "title": {
          "text": "MeanWaitingTime"
         }
        },
        "yaxis": {
         "anchor": "x",
         "domain": [
          0,
          1
         ],
         "title": {
          "text": "count"
         }
        }
       }
      },
      "text/html": [
       "<div>                            <div id=\"9f586e91-95f0-4647-b27e-2f5b86dcd777\" class=\"plotly-graph-div\" style=\"height:525px; width:100%;\"></div>            <script type=\"text/javascript\">                require([\"plotly\"], function(Plotly) {                    window.PLOTLYENV=window.PLOTLYENV || {};                                    if (document.getElementById(\"9f586e91-95f0-4647-b27e-2f5b86dcd777\")) {                    Plotly.newPlot(                        \"9f586e91-95f0-4647-b27e-2f5b86dcd777\",                        [{\"alignmentgroup\":\"True\",\"bingroup\":\"x\",\"hovertemplate\":\"MeanWaitingTime=%{x}<br>count=%{y}<extra></extra>\",\"legendgroup\":\"\",\"marker\":{\"color\":\"#636efa\",\"pattern\":{\"shape\":\"\"}},\"name\":\"\",\"offsetgroup\":\"\",\"orientation\":\"v\",\"showlegend\":false,\"x\":[0.5,69.5,2.3333333333333335,114.5,0.0,0.0,88.33333333333333,0.0,0.0,162.0,1.6666666666666667,1.0,60.5,59.0,89.33333333333333,43.0,66.0,184.66666666666666,42.0,41.0,23.0,68.0,0.0,4.0,7.5,0.0,48.0,168.33333333333334,42.0,0.0,66.5,5.5,20.0,102.33333333333333,0.0,53.5,0.0,0.0,8.0,53.5,0.0,0.0,135.0,80.0,105.5,143.0,81.5,49.333333333333336,0.5,0.0,0.0,151.66666666666666,0.3333333333333333,102.5,81.5,97.5,40.0,71.0,76.5,74.0,117.5,0.5,78.5,0.0,103.5,11.0,124.0,0.0,77.5,0.0,102.0,74.0,0.0,109.0,120.66666666666667,136.33333333333334,81.0,0.0,0.0,69.5,66.0,98.0,0.0,0.5,167.5,154.0,60.5,85.0,30.5,0.0,29.0,69.5,45.5,82.5,98.5,0.0,80.5,31.5,91.5,48.0,0.0,91.5,52.5,132.0,59.0,168.0,98.0,0.5,0.5,0.0,0.0,0.0,176.5,56.5,86.0,137.0,40.5,0.0,18.0,62.5,0.5,197.66666666666666,0.0,0.0,0.0,73.0,0.0,1.0,129.5,0.0,0.5,160.5,54.5,56.5,90.5,23.333333333333332,104.0,0.0,0.0,64.0,102.5,0.0,103.0,0.0,0.0,0.5,0.0,0.5,82.0,97.0,70.5,64.0,93.33333333333333,51.5,136.0,147.0,0.0,99.5,44.5,146.33333333333334,53.0,54.5,66.0,0.0,0.0,0.0,0.5,55.5,37.0,12.0,78.5,58.0,48.0,52.0,109.33333333333333,152.33333333333334,172.0,47.0,0.0,71.5,0.0,0.0,196.0,0.0,10.0,30.0,39.5,84.0,67.66666666666667,0.0,205.0,52.5,0.0,10.5,30.0,0.0,0.0,0.0,118.0,5.0,105.0,0.0,0.0,79.5,0.0,73.5,0.5,120.66666666666667,59.0,0.0,69.0,45.0,0.0,0.0,166.66666666666666,82.5,95.0,0.0,88.5,0.5,79.5,106.0,134.0,78.0,51.0,125.5,0.0,168.5,49.0,124.0,99.0,41.5,0.0,162.0,0.5,86.5,0.0,0.0,0.0,0.5,1.5,99.5,63.5,113.5,114.5,1.5,57.0,0.0,57.0,41.0,137.33333333333334,84.0,76.5,131.66666666666666,0.0,6.0,81.5,124.0,24.666666666666668,0.0,38.0,128.66666666666666,148.66666666666666,191.5,0.0,0.0,137.5,68.5,0.0,71.0,90.0,0.0,101.0,0.0,0.0,0.0],\"xaxis\":\"x\",\"yaxis\":\"y\",\"type\":\"histogram\"}],                        {\"template\":{\"data\":{\"histogram2dcontour\":[{\"type\":\"histogram2dcontour\",\"colorbar\":{\"outlinewidth\":0,\"ticks\":\"\"},\"colorscale\":[[0.0,\"#0d0887\"],[0.1111111111111111,\"#46039f\"],[0.2222222222222222,\"#7201a8\"],[0.3333333333333333,\"#9c179e\"],[0.4444444444444444,\"#bd3786\"],[0.5555555555555556,\"#d8576b\"],[0.6666666666666666,\"#ed7953\"],[0.7777777777777778,\"#fb9f3a\"],[0.8888888888888888,\"#fdca26\"],[1.0,\"#f0f921\"]]}],\"choropleth\":[{\"type\":\"choropleth\",\"colorbar\":{\"outlinewidth\":0,\"ticks\":\"\"}}],\"histogram2d\":[{\"type\":\"histogram2d\",\"colorbar\":{\"outlinewidth\":0,\"ticks\":\"\"},\"colorscale\":[[0.0,\"#0d0887\"],[0.1111111111111111,\"#46039f\"],[0.2222222222222222,\"#7201a8\"],[0.3333333333333333,\"#9c179e\"],[0.4444444444444444,\"#bd3786\"],[0.5555555555555556,\"#d8576b\"],[0.6666666666666666,\"#ed7953\"],[0.7777777777777778,\"#fb9f3a\"],[0.8888888888888888,\"#fdca26\"],[1.0,\"#f0f921\"]]}],\"heatmap\":[{\"type\":\"heatmap\",\"colorbar\":{\"outlinewidth\":0,\"ticks\":\"\"},\"colorscale\":[[0.0,\"#0d0887\"],[0.1111111111111111,\"#46039f\"],[0.2222222222222222,\"#7201a8\"],[0.3333333333333333,\"#9c179e\"],[0.4444444444444444,\"#bd3786\"],[0.5555555555555556,\"#d8576b\"],[0.6666666666666666,\"#ed7953\"],[0.7777777777777778,\"#fb9f3a\"],[0.8888888888888888,\"#fdca26\"],[1.0,\"#f0f921\"]]}],\"heatmapgl\":[{\"type\":\"heatmapgl\",\"colorbar\":{\"outlinewidth\":0,\"ticks\":\"\"},\"colorscale\":[[0.0,\"#0d0887\"],[0.1111111111111111,\"#46039f\"],[0.2222222222222222,\"#7201a8\"],[0.3333333333333333,\"#9c179e\"],[0.4444444444444444,\"#bd3786\"],[0.5555555555555556,\"#d8576b\"],[0.6666666666666666,\"#ed7953\"],[0.7777777777777778,\"#fb9f3a\"],[0.8888888888888888,\"#fdca26\"],[1.0,\"#f0f921\"]]}],\"contourcarpet\":[{\"type\":\"contourcarpet\",\"colorbar\":{\"outlinewidth\":0,\"ticks\":\"\"}}],\"contour\":[{\"type\":\"contour\",\"colorbar\":{\"outlinewidth\":0,\"ticks\":\"\"},\"colorscale\":[[0.0,\"#0d0887\"],[0.1111111111111111,\"#46039f\"],[0.2222222222222222,\"#7201a8\"],[0.3333333333333333,\"#9c179e\"],[0.4444444444444444,\"#bd3786\"],[0.5555555555555556,\"#d8576b\"],[0.6666666666666666,\"#ed7953\"],[0.7777777777777778,\"#fb9f3a\"],[0.8888888888888888,\"#fdca26\"],[1.0,\"#f0f921\"]]}],\"surface\":[{\"type\":\"surface\",\"colorbar\":{\"outlinewidth\":0,\"ticks\":\"\"},\"colorscale\":[[0.0,\"#0d0887\"],[0.1111111111111111,\"#46039f\"],[0.2222222222222222,\"#7201a8\"],[0.3333333333333333,\"#9c179e\"],[0.4444444444444444,\"#bd3786\"],[0.5555555555555556,\"#d8576b\"],[0.6666666666666666,\"#ed7953\"],[0.7777777777777778,\"#fb9f3a\"],[0.8888888888888888,\"#fdca26\"],[1.0,\"#f0f921\"]]}],\"mesh3d\":[{\"type\":\"mesh3d\",\"colorbar\":{\"outlinewidth\":0,\"ticks\":\"\"}}],\"scatter\":[{\"fillpattern\":{\"fillmode\":\"overlay\",\"size\":10,\"solidity\":0.2},\"type\":\"scatter\"}],\"parcoords\":[{\"type\":\"parcoords\",\"line\":{\"colorbar\":{\"outlinewidth\":0,\"ticks\":\"\"}}}],\"scatterpolargl\":[{\"type\":\"scatterpolargl\",\"marker\":{\"colorbar\":{\"outlinewidth\":0,\"ticks\":\"\"}}}],\"bar\":[{\"error_x\":{\"color\":\"#2a3f5f\"},\"error_y\":{\"color\":\"#2a3f5f\"},\"marker\":{\"line\":{\"color\":\"#E5ECF6\",\"width\":0.5},\"pattern\":{\"fillmode\":\"overlay\",\"size\":10,\"solidity\":0.2}},\"type\":\"bar\"}],\"scattergeo\":[{\"type\":\"scattergeo\",\"marker\":{\"colorbar\":{\"outlinewidth\":0,\"ticks\":\"\"}}}],\"scatterpolar\":[{\"type\":\"scatterpolar\",\"marker\":{\"colorbar\":{\"outlinewidth\":0,\"ticks\":\"\"}}}],\"histogram\":[{\"marker\":{\"pattern\":{\"fillmode\":\"overlay\",\"size\":10,\"solidity\":0.2}},\"type\":\"histogram\"}],\"scattergl\":[{\"type\":\"scattergl\",\"marker\":{\"colorbar\":{\"outlinewidth\":0,\"ticks\":\"\"}}}],\"scatter3d\":[{\"type\":\"scatter3d\",\"line\":{\"colorbar\":{\"outlinewidth\":0,\"ticks\":\"\"}},\"marker\":{\"colorbar\":{\"outlinewidth\":0,\"ticks\":\"\"}}}],\"scattermapbox\":[{\"type\":\"scattermapbox\",\"marker\":{\"colorbar\":{\"outlinewidth\":0,\"ticks\":\"\"}}}],\"scatterternary\":[{\"type\":\"scatterternary\",\"marker\":{\"colorbar\":{\"outlinewidth\":0,\"ticks\":\"\"}}}],\"scattercarpet\":[{\"type\":\"scattercarpet\",\"marker\":{\"colorbar\":{\"outlinewidth\":0,\"ticks\":\"\"}}}],\"carpet\":[{\"aaxis\":{\"endlinecolor\":\"#2a3f5f\",\"gridcolor\":\"white\",\"linecolor\":\"white\",\"minorgridcolor\":\"white\",\"startlinecolor\":\"#2a3f5f\"},\"baxis\":{\"endlinecolor\":\"#2a3f5f\",\"gridcolor\":\"white\",\"linecolor\":\"white\",\"minorgridcolor\":\"white\",\"startlinecolor\":\"#2a3f5f\"},\"type\":\"carpet\"}],\"table\":[{\"cells\":{\"fill\":{\"color\":\"#EBF0F8\"},\"line\":{\"color\":\"white\"}},\"header\":{\"fill\":{\"color\":\"#C8D4E3\"},\"line\":{\"color\":\"white\"}},\"type\":\"table\"}],\"barpolar\":[{\"marker\":{\"line\":{\"color\":\"#E5ECF6\",\"width\":0.5},\"pattern\":{\"fillmode\":\"overlay\",\"size\":10,\"solidity\":0.2}},\"type\":\"barpolar\"}],\"pie\":[{\"automargin\":true,\"type\":\"pie\"}]},\"layout\":{\"autotypenumbers\":\"strict\",\"colorway\":[\"#636efa\",\"#EF553B\",\"#00cc96\",\"#ab63fa\",\"#FFA15A\",\"#19d3f3\",\"#FF6692\",\"#B6E880\",\"#FF97FF\",\"#FECB52\"],\"font\":{\"color\":\"#2a3f5f\"},\"hovermode\":\"closest\",\"hoverlabel\":{\"align\":\"left\"},\"paper_bgcolor\":\"white\",\"plot_bgcolor\":\"#E5ECF6\",\"polar\":{\"bgcolor\":\"#E5ECF6\",\"angularaxis\":{\"gridcolor\":\"white\",\"linecolor\":\"white\",\"ticks\":\"\"},\"radialaxis\":{\"gridcolor\":\"white\",\"linecolor\":\"white\",\"ticks\":\"\"}},\"ternary\":{\"bgcolor\":\"#E5ECF6\",\"aaxis\":{\"gridcolor\":\"white\",\"linecolor\":\"white\",\"ticks\":\"\"},\"baxis\":{\"gridcolor\":\"white\",\"linecolor\":\"white\",\"ticks\":\"\"},\"caxis\":{\"gridcolor\":\"white\",\"linecolor\":\"white\",\"ticks\":\"\"}},\"coloraxis\":{\"colorbar\":{\"outlinewidth\":0,\"ticks\":\"\"}},\"colorscale\":{\"sequential\":[[0.0,\"#0d0887\"],[0.1111111111111111,\"#46039f\"],[0.2222222222222222,\"#7201a8\"],[0.3333333333333333,\"#9c179e\"],[0.4444444444444444,\"#bd3786\"],[0.5555555555555556,\"#d8576b\"],[0.6666666666666666,\"#ed7953\"],[0.7777777777777778,\"#fb9f3a\"],[0.8888888888888888,\"#fdca26\"],[1.0,\"#f0f921\"]],\"sequentialminus\":[[0.0,\"#0d0887\"],[0.1111111111111111,\"#46039f\"],[0.2222222222222222,\"#7201a8\"],[0.3333333333333333,\"#9c179e\"],[0.4444444444444444,\"#bd3786\"],[0.5555555555555556,\"#d8576b\"],[0.6666666666666666,\"#ed7953\"],[0.7777777777777778,\"#fb9f3a\"],[0.8888888888888888,\"#fdca26\"],[1.0,\"#f0f921\"]],\"diverging\":[[0,\"#8e0152\"],[0.1,\"#c51b7d\"],[0.2,\"#de77ae\"],[0.3,\"#f1b6da\"],[0.4,\"#fde0ef\"],[0.5,\"#f7f7f7\"],[0.6,\"#e6f5d0\"],[0.7,\"#b8e186\"],[0.8,\"#7fbc41\"],[0.9,\"#4d9221\"],[1,\"#276419\"]]},\"xaxis\":{\"gridcolor\":\"white\",\"linecolor\":\"white\",\"ticks\":\"\",\"title\":{\"standoff\":15},\"zerolinecolor\":\"white\",\"automargin\":true,\"zerolinewidth\":2},\"yaxis\":{\"gridcolor\":\"white\",\"linecolor\":\"white\",\"ticks\":\"\",\"title\":{\"standoff\":15},\"zerolinecolor\":\"white\",\"automargin\":true,\"zerolinewidth\":2},\"scene\":{\"xaxis\":{\"backgroundcolor\":\"#E5ECF6\",\"gridcolor\":\"white\",\"linecolor\":\"white\",\"showbackground\":true,\"ticks\":\"\",\"zerolinecolor\":\"white\",\"gridwidth\":2},\"yaxis\":{\"backgroundcolor\":\"#E5ECF6\",\"gridcolor\":\"white\",\"linecolor\":\"white\",\"showbackground\":true,\"ticks\":\"\",\"zerolinecolor\":\"white\",\"gridwidth\":2},\"zaxis\":{\"backgroundcolor\":\"#E5ECF6\",\"gridcolor\":\"white\",\"linecolor\":\"white\",\"showbackground\":true,\"ticks\":\"\",\"zerolinecolor\":\"white\",\"gridwidth\":2}},\"shapedefaults\":{\"line\":{\"color\":\"#2a3f5f\"}},\"annotationdefaults\":{\"arrowcolor\":\"#2a3f5f\",\"arrowhead\":0,\"arrowwidth\":1},\"geo\":{\"bgcolor\":\"white\",\"landcolor\":\"#E5ECF6\",\"subunitcolor\":\"white\",\"showland\":true,\"showlakes\":true,\"lakecolor\":\"white\"},\"title\":{\"x\":0.05},\"mapbox\":{\"style\":\"light\"}}},\"xaxis\":{\"anchor\":\"y\",\"domain\":[0.0,1.0],\"title\":{\"text\":\"MeanWaitingTime\"}},\"yaxis\":{\"anchor\":\"x\",\"domain\":[0.0,1.0],\"title\":{\"text\":\"count\"}},\"legend\":{\"tracegroupgap\":0},\"margin\":{\"t\":60},\"barmode\":\"relative\"},                        {\"responsive\": true}                    ).then(function(){\n",
       "                            \n",
       "var gd = document.getElementById('9f586e91-95f0-4647-b27e-2f5b86dcd777');\n",
       "var x = new MutationObserver(function (mutations, observer) {{\n",
       "        var display = window.getComputedStyle(gd).display;\n",
       "        if (!display || display === 'none') {{\n",
       "            console.log([gd, 'removed!']);\n",
       "            Plotly.purge(gd);\n",
       "            observer.disconnect();\n",
       "        }}\n",
       "}});\n",
       "\n",
       "// Listen for the removal of the full notebook cells\n",
       "var notebookContainer = gd.closest('#notebook-container');\n",
       "if (notebookContainer) {{\n",
       "    x.observe(notebookContainer, {childList: true});\n",
       "}}\n",
       "\n",
       "// Listen for the clearing of the current output cell\n",
       "var outputEl = gd.closest('.output');\n",
       "if (outputEl) {{\n",
       "    x.observe(outputEl, {childList: true});\n",
       "}}\n",
       "\n",
       "                        })                };                });            </script>        </div>"
      ]
     },
     "metadata": {},
     "output_type": "display_data"
    }
   ],
   "source": [
    "px.histogram(nodes_df, x='MeanWaitingTime')"
   ]
  },
  {
   "cell_type": "code",
   "execution_count": 45,
   "id": "58b953db",
   "metadata": {},
   "outputs": [
    {
     "data": {
      "text/plain": [
       "[1.0,\n",
       " 0.0,\n",
       " 139.0,\n",
       " 0.0,\n",
       " 7.0,\n",
       " 0.0,\n",
       " 0.0,\n",
       " 229.0,\n",
       " 0.0,\n",
       " 0.0,\n",
       " 0.0,\n",
       " 173.0,\n",
       " 92.0,\n",
       " 0.0,\n",
       " 0.0,\n",
       " 0.0,\n",
       " 342.0,\n",
       " 144.0,\n",
       " 0.0,\n",
       " 3.0,\n",
       " 2.0,\n",
       " 0.0,\n",
       " 2.0,\n",
       " 0.0,\n",
       " 121.0,\n",
       " 0.0,\n",
       " 118.0,\n",
       " 0.0,\n",
       " 234.0,\n",
       " 34.0,\n",
       " 0.0,\n",
       " 86.0,\n",
       " 0.0,\n",
       " 100.0,\n",
       " 98.0,\n",
       " 0.0,\n",
       " 417.0,\n",
       " 137.0,\n",
       " 0.0,\n",
       " 64.0,\n",
       " 62.0,\n",
       " 0.0,\n",
       " 82.0,\n",
       " 0.0,\n",
       " 35.0,\n",
       " 34.0,\n",
       " 0.0,\n",
       " 202.0,\n",
       " 2.0,\n",
       " 0.0,\n",
       " 0.0,\n",
       " 8.0,\n",
       " 0.0,\n",
       " 15.0,\n",
       " 0.0,\n",
       " 0.0,\n",
       " 96.0,\n",
       " 0.0,\n",
       " 404.0,\n",
       " 101.0,\n",
       " 0.0,\n",
       " 84.0,\n",
       " 0.0,\n",
       " 0.0,\n",
       " 133.0,\n",
       " 0.0,\n",
       " 11.0,\n",
       " 0.0,\n",
       " 40.0,\n",
       " 0.0,\n",
       " 224.0,\n",
       " 83.0,\n",
       " 0.0,\n",
       " 0.0,\n",
       " 107.0,\n",
       " 0.0,\n",
       " 0.0,\n",
       " 0.0,\n",
       " 23.0,\n",
       " 1.0,\n",
       " 0.0,\n",
       " 107.0,\n",
       " 0.0,\n",
       " 0.0,\n",
       " 0.0,\n",
       " 270.0,\n",
       " 0.0,\n",
       " 160.0,\n",
       " 0.0,\n",
       " 211.0,\n",
       " 0.0,\n",
       " 296.0,\n",
       " 133.0,\n",
       " 0.0,\n",
       " 163.0,\n",
       " 0.0,\n",
       " 148.0,\n",
       " 0.0,\n",
       " 0.0,\n",
       " 1.0,\n",
       " 0.0,\n",
       " 0.0,\n",
       " 0.0,\n",
       " 319.0,\n",
       " 136.0,\n",
       " 0.0,\n",
       " 1.0,\n",
       " 0.0,\n",
       " 0.0,\n",
       " 205.0,\n",
       " 0.0,\n",
       " 163.0,\n",
       " 0.0,\n",
       " 195.0,\n",
       " 0.0,\n",
       " 80.0,\n",
       " 0.0,\n",
       " 142.0,\n",
       " 0.0,\n",
       " 153.0,\n",
       " 0.0,\n",
       " 219.0,\n",
       " 3.0,\n",
       " 0.0,\n",
       " 235.0,\n",
       " 0.0,\n",
       " 1.0,\n",
       " 0.0,\n",
       " 157.0,\n",
       " 0.0,\n",
       " 0.0,\n",
       " 207.0,\n",
       " 0.0,\n",
       " 22.0,\n",
       " 0.0,\n",
       " 259.0,\n",
       " 113.0,\n",
       " 0.0,\n",
       " 0.0,\n",
       " 155.0,\n",
       " 0.0,\n",
       " 0.0,\n",
       " 0.0,\n",
       " 204.0,\n",
       " 0.0,\n",
       " 148.0,\n",
       " 0.0,\n",
       " 0.0,\n",
       " 237.0,\n",
       " 90.0,\n",
       " 0.0,\n",
       " 296.0,\n",
       " 66.0,\n",
       " 0.0,\n",
       " 304.0,\n",
       " 105.0,\n",
       " 0.0,\n",
       " 162.0,\n",
       " 0.0,\n",
       " 0.0,\n",
       " 0.0,\n",
       " 139.0,\n",
       " 0.0,\n",
       " 132.0,\n",
       " 0.0,\n",
       " 196.0,\n",
       " 0.0,\n",
       " 0.0,\n",
       " 1.0,\n",
       " 0.0,\n",
       " 335.0,\n",
       " 0.0,\n",
       " 332.0,\n",
       " 130.0,\n",
       " 0.0,\n",
       " 121.0,\n",
       " 0.0,\n",
       " 170.0,\n",
       " 0.0,\n",
       " 61.0,\n",
       " 0.0,\n",
       " 0.0,\n",
       " 87.0,\n",
       " 0.0,\n",
       " 0.0,\n",
       " 139.0,\n",
       " 0.0,\n",
       " 91.0,\n",
       " 0.0,\n",
       " 165.0,\n",
       " 0.0,\n",
       " 197.0,\n",
       " 0.0,\n",
       " 0.0,\n",
       " 161.0,\n",
       " 0.0,\n",
       " 63.0,\n",
       " 0.0,\n",
       " 183.0,\n",
       " 0.0,\n",
       " 96.0,\n",
       " 0.0,\n",
       " 0.0,\n",
       " 183.0,\n",
       " 0.0,\n",
       " 105.0,\n",
       " 0.0,\n",
       " 264.0,\n",
       " 0.0,\n",
       " 123.0,\n",
       " 54.0,\n",
       " 0.0,\n",
       " 336.0,\n",
       " 0.0,\n",
       " 290.0,\n",
       " 4.0,\n",
       " 0.0,\n",
       " 1.0,\n",
       " 0.0,\n",
       " 1.0,\n",
       " 0.0,\n",
       " 0.0,\n",
       " 0.0,\n",
       " 0.0,\n",
       " 353.0,\n",
       " 0.0,\n",
       " 113.0,\n",
       " 0.0,\n",
       " 172.0,\n",
       " 0.0,\n",
       " 274.0,\n",
       " 0.0,\n",
       " 81.0,\n",
       " 0.0,\n",
       " 0.0,\n",
       " 36.0,\n",
       " 0.0,\n",
       " 125.0,\n",
       " 0.0,\n",
       " 1.0,\n",
       " 0.0,\n",
       " 490.0,\n",
       " 103.0,\n",
       " 0.0,\n",
       " 0.0,\n",
       " 0.0,\n",
       " 0.0,\n",
       " 0.0,\n",
       " 146.0,\n",
       " 0.0,\n",
       " 0.0,\n",
       " 2.0,\n",
       " 0.0,\n",
       " 259.0,\n",
       " 0.0,\n",
       " 0.0,\n",
       " 1.0,\n",
       " 0.0,\n",
       " 321.0,\n",
       " 0.0,\n",
       " 109.0,\n",
       " 0.0,\n",
       " 113.0,\n",
       " 0.0,\n",
       " 181.0,\n",
       " 0.0,\n",
       " 41.0,\n",
       " 29.0,\n",
       " 0.0,\n",
       " 208.0,\n",
       " 0.0,\n",
       " 0.0,\n",
       " 0.0,\n",
       " 0.0,\n",
       " 128.0,\n",
       " 0.0,\n",
       " 205.0,\n",
       " 0.0,\n",
       " 0.0,\n",
       " 214.0,\n",
       " 95.0,\n",
       " 0.0,\n",
       " 0.0,\n",
       " 0.0,\n",
       " 1.0,\n",
       " 0.0,\n",
       " 0.0,\n",
       " 1.0,\n",
       " 0.0,\n",
       " 164.0,\n",
       " 0.0,\n",
       " 194.0,\n",
       " 0.0,\n",
       " 141.0,\n",
       " 0.0,\n",
       " 128.0,\n",
       " 0.0,\n",
       " 267.0,\n",
       " 13.0,\n",
       " 0.0,\n",
       " 103.0,\n",
       " 0.0,\n",
       " 323.0,\n",
       " 85.0,\n",
       " 0.0,\n",
       " 332.0,\n",
       " 109.0,\n",
       " 0.0,\n",
       " 0.0,\n",
       " 199.0,\n",
       " 0.0,\n",
       " 89.0,\n",
       " 0.0,\n",
       " 381.0,\n",
       " 58.0,\n",
       " 0.0,\n",
       " 106.0,\n",
       " 0.0,\n",
       " 109.0,\n",
       " 0.0,\n",
       " 132.0,\n",
       " 0.0,\n",
       " 0.0,\n",
       " 0.0,\n",
       " 0.0,\n",
       " 1.0,\n",
       " 0.0,\n",
       " 111.0,\n",
       " 0.0,\n",
       " 74.0,\n",
       " 0.0,\n",
       " 24.0,\n",
       " 0.0,\n",
       " 157.0,\n",
       " 0.0,\n",
       " 116.0,\n",
       " 0.0,\n",
       " 96.0,\n",
       " 0.0,\n",
       " 104.0,\n",
       " 0.0,\n",
       " 328.0,\n",
       " 0.0,\n",
       " 0.0,\n",
       " 353.0,\n",
       " 104.0,\n",
       " 0.0,\n",
       " 344.0,\n",
       " 0.0,\n",
       " 94.0,\n",
       " 0.0,\n",
       " 0.0,\n",
       " 0.0,\n",
       " 143.0,\n",
       " 0.0,\n",
       " 0.0,\n",
       " 0.0,\n",
       " 483.0,\n",
       " 105.0,\n",
       " 0.0,\n",
       " 0.0,\n",
       " 20.0,\n",
       " 0.0,\n",
       " 60.0,\n",
       " 0.0,\n",
       " 79.0,\n",
       " 0.0,\n",
       " 168.0,\n",
       " 0.0,\n",
       " 158.0,\n",
       " 45.0,\n",
       " 0.0,\n",
       " 0.0,\n",
       " 410.0,\n",
       " 0.0,\n",
       " 105.0,\n",
       " 0.0,\n",
       " 0.0,\n",
       " 21.0,\n",
       " 0.0,\n",
       " 60.0,\n",
       " 0.0,\n",
       " 0.0,\n",
       " 0.0,\n",
       " 0.0,\n",
       " 251.0,\n",
       " 103.0,\n",
       " 0.0,\n",
       " 10.0,\n",
       " 0.0,\n",
       " 210.0,\n",
       " 0.0,\n",
       " 0.0,\n",
       " 0.0,\n",
       " 159.0,\n",
       " 0.0,\n",
       " 0.0,\n",
       " 147.0,\n",
       " 0.0,\n",
       " 1.0,\n",
       " 0.0,\n",
       " 275.0,\n",
       " 87.0,\n",
       " 0.0,\n",
       " 118.0,\n",
       " 0.0,\n",
       " 0.0,\n",
       " 138.0,\n",
       " 0.0,\n",
       " 90.0,\n",
       " 0.0,\n",
       " 0.0,\n",
       " 0.0,\n",
       " 367.0,\n",
       " 133.0,\n",
       " 0.0,\n",
       " 165.0,\n",
       " 0.0,\n",
       " 190.0,\n",
       " 0.0,\n",
       " 0.0,\n",
       " 177.0,\n",
       " 0.0,\n",
       " 1.0,\n",
       " 0.0,\n",
       " 159.0,\n",
       " 0.0,\n",
       " 212.0,\n",
       " 0.0,\n",
       " 268.0,\n",
       " 0.0,\n",
       " 156.0,\n",
       " 0.0,\n",
       " 150.0,\n",
       " 3.0,\n",
       " 0.0,\n",
       " 251.0,\n",
       " 0.0,\n",
       " 0.0,\n",
       " 337.0,\n",
       " 0.0,\n",
       " 98.0,\n",
       " 0.0,\n",
       " 248.0,\n",
       " 0.0,\n",
       " 198.0,\n",
       " 0.0,\n",
       " 83.0,\n",
       " 0.0,\n",
       " 0.0,\n",
       " 0.0,\n",
       " 374.0,\n",
       " 112.0,\n",
       " 0.0,\n",
       " 1.0,\n",
       " 0.0,\n",
       " 173.0,\n",
       " 0.0,\n",
       " 0.0,\n",
       " 0.0,\n",
       " 0.0,\n",
       " 1.0,\n",
       " 0.0,\n",
       " 3.0,\n",
       " 0.0,\n",
       " 199.0,\n",
       " 0.0,\n",
       " 127.0,\n",
       " 0.0,\n",
       " 227.0,\n",
       " 0.0,\n",
       " 229.0,\n",
       " 0.0,\n",
       " 3.0,\n",
       " 0.0,\n",
       " 86.0,\n",
       " 85.0,\n",
       " 0.0,\n",
       " 0.0,\n",
       " 114.0,\n",
       " 0.0,\n",
       " 82.0,\n",
       " 0.0,\n",
       " 275.0,\n",
       " 137.0,\n",
       " 0.0,\n",
       " 168.0,\n",
       " 0.0,\n",
       " 153.0,\n",
       " 0.0,\n",
       " 361.0,\n",
       " 34.0,\n",
       " 0.0,\n",
       " 0.0,\n",
       " 12.0,\n",
       " 0.0,\n",
       " 163.0,\n",
       " 0.0,\n",
       " 248.0,\n",
       " 0.0,\n",
       " 37.0,\n",
       " 37.0,\n",
       " 0.0,\n",
       " 0.0,\n",
       " 76.0,\n",
       " 0.0,\n",
       " 262.0,\n",
       " 124.0,\n",
       " 0.0,\n",
       " 324.0,\n",
       " 122.0,\n",
       " 0.0,\n",
       " 383.0,\n",
       " 0.0,\n",
       " 0.0,\n",
       " 0.0,\n",
       " 275.0,\n",
       " 0.0,\n",
       " 137.0,\n",
       " 0.0,\n",
       " 0.0,\n",
       " 142.0,\n",
       " 0.0,\n",
       " 180.0,\n",
       " 0.0,\n",
       " 0.0,\n",
       " 202.0,\n",
       " 0.0,\n",
       " 0.0,\n",
       " 0.0,\n",
       " 0.0]"
      ]
     },
     "execution_count": 45,
     "metadata": {},
     "output_type": "execute_result"
    }
   ],
   "source": [
    "waiting_list_times = []\n",
    "for node in nodes_df['WaitingTimes']:\n",
    "    for n in node:\n",
    "        waiting_list_times.append(n)\n",
    "\n",
    "waiting_list_times"
   ]
  },
  {
   "cell_type": "code",
   "execution_count": 50,
   "id": "e2063981",
   "metadata": {},
   "outputs": [
    {
     "data": {
      "application/vnd.plotly.v1+json": {
       "config": {
        "plotlyServerURL": "https://plot.ly"
       },
       "data": [
        {
         "alignmentgroup": "True",
         "bingroup": "x",
         "hovertemplate": "x=%{x}<br>count=%{y}<extra></extra>",
         "legendgroup": "",
         "marker": {
          "color": "#636efa",
          "pattern": {
           "shape": ""
          }
         },
         "name": "",
         "offsetgroup": "",
         "orientation": "v",
         "showlegend": false,
         "type": "histogram",
         "x": [
          1,
          0,
          139,
          0,
          7,
          0,
          0,
          229,
          0,
          0,
          0,
          173,
          92,
          0,
          0,
          0,
          342,
          144,
          0,
          3,
          2,
          0,
          2,
          0,
          121,
          0,
          118,
          0,
          234,
          34,
          0,
          86,
          0,
          100,
          98,
          0,
          417,
          137,
          0,
          64,
          62,
          0,
          82,
          0,
          35,
          34,
          0,
          202,
          2,
          0,
          0,
          8,
          0,
          15,
          0,
          0,
          96,
          0,
          404,
          101,
          0,
          84,
          0,
          0,
          133,
          0,
          11,
          0,
          40,
          0,
          224,
          83,
          0,
          0,
          107,
          0,
          0,
          0,
          23,
          1,
          0,
          107,
          0,
          0,
          0,
          270,
          0,
          160,
          0,
          211,
          0,
          296,
          133,
          0,
          163,
          0,
          148,
          0,
          0,
          1,
          0,
          0,
          0,
          319,
          136,
          0,
          1,
          0,
          0,
          205,
          0,
          163,
          0,
          195,
          0,
          80,
          0,
          142,
          0,
          153,
          0,
          219,
          3,
          0,
          235,
          0,
          1,
          0,
          157,
          0,
          0,
          207,
          0,
          22,
          0,
          259,
          113,
          0,
          0,
          155,
          0,
          0,
          0,
          204,
          0,
          148,
          0,
          0,
          237,
          90,
          0,
          296,
          66,
          0,
          304,
          105,
          0,
          162,
          0,
          0,
          0,
          139,
          0,
          132,
          0,
          196,
          0,
          0,
          1,
          0,
          335,
          0,
          332,
          130,
          0,
          121,
          0,
          170,
          0,
          61,
          0,
          0,
          87,
          0,
          0,
          139,
          0,
          91,
          0,
          165,
          0,
          197,
          0,
          0,
          161,
          0,
          63,
          0,
          183,
          0,
          96,
          0,
          0,
          183,
          0,
          105,
          0,
          264,
          0,
          123,
          54,
          0,
          336,
          0,
          290,
          4,
          0,
          1,
          0,
          1,
          0,
          0,
          0,
          0,
          353,
          0,
          113,
          0,
          172,
          0,
          274,
          0,
          81,
          0,
          0,
          36,
          0,
          125,
          0,
          1,
          0,
          490,
          103,
          0,
          0,
          0,
          0,
          0,
          146,
          0,
          0,
          2,
          0,
          259,
          0,
          0,
          1,
          0,
          321,
          0,
          109,
          0,
          113,
          0,
          181,
          0,
          41,
          29,
          0,
          208,
          0,
          0,
          0,
          0,
          128,
          0,
          205,
          0,
          0,
          214,
          95,
          0,
          0,
          0,
          1,
          0,
          0,
          1,
          0,
          164,
          0,
          194,
          0,
          141,
          0,
          128,
          0,
          267,
          13,
          0,
          103,
          0,
          323,
          85,
          0,
          332,
          109,
          0,
          0,
          199,
          0,
          89,
          0,
          381,
          58,
          0,
          106,
          0,
          109,
          0,
          132,
          0,
          0,
          0,
          0,
          1,
          0,
          111,
          0,
          74,
          0,
          24,
          0,
          157,
          0,
          116,
          0,
          96,
          0,
          104,
          0,
          328,
          0,
          0,
          353,
          104,
          0,
          344,
          0,
          94,
          0,
          0,
          0,
          143,
          0,
          0,
          0,
          483,
          105,
          0,
          0,
          20,
          0,
          60,
          0,
          79,
          0,
          168,
          0,
          158,
          45,
          0,
          0,
          410,
          0,
          105,
          0,
          0,
          21,
          0,
          60,
          0,
          0,
          0,
          0,
          251,
          103,
          0,
          10,
          0,
          210,
          0,
          0,
          0,
          159,
          0,
          0,
          147,
          0,
          1,
          0,
          275,
          87,
          0,
          118,
          0,
          0,
          138,
          0,
          90,
          0,
          0,
          0,
          367,
          133,
          0,
          165,
          0,
          190,
          0,
          0,
          177,
          0,
          1,
          0,
          159,
          0,
          212,
          0,
          268,
          0,
          156,
          0,
          150,
          3,
          0,
          251,
          0,
          0,
          337,
          0,
          98,
          0,
          248,
          0,
          198,
          0,
          83,
          0,
          0,
          0,
          374,
          112,
          0,
          1,
          0,
          173,
          0,
          0,
          0,
          0,
          1,
          0,
          3,
          0,
          199,
          0,
          127,
          0,
          227,
          0,
          229,
          0,
          3,
          0,
          86,
          85,
          0,
          0,
          114,
          0,
          82,
          0,
          275,
          137,
          0,
          168,
          0,
          153,
          0,
          361,
          34,
          0,
          0,
          12,
          0,
          163,
          0,
          248,
          0,
          37,
          37,
          0,
          0,
          76,
          0,
          262,
          124,
          0,
          324,
          122,
          0,
          383,
          0,
          0,
          0,
          275,
          0,
          137,
          0,
          0,
          142,
          0,
          180,
          0,
          0,
          202,
          0,
          0,
          0,
          0
         ],
         "xaxis": "x",
         "yaxis": "y"
        }
       ],
       "layout": {
        "barmode": "relative",
        "legend": {
         "tracegroupgap": 0
        },
        "template": {
         "data": {
          "bar": [
           {
            "error_x": {
             "color": "#2a3f5f"
            },
            "error_y": {
             "color": "#2a3f5f"
            },
            "marker": {
             "line": {
              "color": "#E5ECF6",
              "width": 0.5
             },
             "pattern": {
              "fillmode": "overlay",
              "size": 10,
              "solidity": 0.2
             }
            },
            "type": "bar"
           }
          ],
          "barpolar": [
           {
            "marker": {
             "line": {
              "color": "#E5ECF6",
              "width": 0.5
             },
             "pattern": {
              "fillmode": "overlay",
              "size": 10,
              "solidity": 0.2
             }
            },
            "type": "barpolar"
           }
          ],
          "carpet": [
           {
            "aaxis": {
             "endlinecolor": "#2a3f5f",
             "gridcolor": "white",
             "linecolor": "white",
             "minorgridcolor": "white",
             "startlinecolor": "#2a3f5f"
            },
            "baxis": {
             "endlinecolor": "#2a3f5f",
             "gridcolor": "white",
             "linecolor": "white",
             "minorgridcolor": "white",
             "startlinecolor": "#2a3f5f"
            },
            "type": "carpet"
           }
          ],
          "choropleth": [
           {
            "colorbar": {
             "outlinewidth": 0,
             "ticks": ""
            },
            "type": "choropleth"
           }
          ],
          "contour": [
           {
            "colorbar": {
             "outlinewidth": 0,
             "ticks": ""
            },
            "colorscale": [
             [
              0,
              "#0d0887"
             ],
             [
              0.1111111111111111,
              "#46039f"
             ],
             [
              0.2222222222222222,
              "#7201a8"
             ],
             [
              0.3333333333333333,
              "#9c179e"
             ],
             [
              0.4444444444444444,
              "#bd3786"
             ],
             [
              0.5555555555555556,
              "#d8576b"
             ],
             [
              0.6666666666666666,
              "#ed7953"
             ],
             [
              0.7777777777777778,
              "#fb9f3a"
             ],
             [
              0.8888888888888888,
              "#fdca26"
             ],
             [
              1,
              "#f0f921"
             ]
            ],
            "type": "contour"
           }
          ],
          "contourcarpet": [
           {
            "colorbar": {
             "outlinewidth": 0,
             "ticks": ""
            },
            "type": "contourcarpet"
           }
          ],
          "heatmap": [
           {
            "colorbar": {
             "outlinewidth": 0,
             "ticks": ""
            },
            "colorscale": [
             [
              0,
              "#0d0887"
             ],
             [
              0.1111111111111111,
              "#46039f"
             ],
             [
              0.2222222222222222,
              "#7201a8"
             ],
             [
              0.3333333333333333,
              "#9c179e"
             ],
             [
              0.4444444444444444,
              "#bd3786"
             ],
             [
              0.5555555555555556,
              "#d8576b"
             ],
             [
              0.6666666666666666,
              "#ed7953"
             ],
             [
              0.7777777777777778,
              "#fb9f3a"
             ],
             [
              0.8888888888888888,
              "#fdca26"
             ],
             [
              1,
              "#f0f921"
             ]
            ],
            "type": "heatmap"
           }
          ],
          "heatmapgl": [
           {
            "colorbar": {
             "outlinewidth": 0,
             "ticks": ""
            },
            "colorscale": [
             [
              0,
              "#0d0887"
             ],
             [
              0.1111111111111111,
              "#46039f"
             ],
             [
              0.2222222222222222,
              "#7201a8"
             ],
             [
              0.3333333333333333,
              "#9c179e"
             ],
             [
              0.4444444444444444,
              "#bd3786"
             ],
             [
              0.5555555555555556,
              "#d8576b"
             ],
             [
              0.6666666666666666,
              "#ed7953"
             ],
             [
              0.7777777777777778,
              "#fb9f3a"
             ],
             [
              0.8888888888888888,
              "#fdca26"
             ],
             [
              1,
              "#f0f921"
             ]
            ],
            "type": "heatmapgl"
           }
          ],
          "histogram": [
           {
            "marker": {
             "pattern": {
              "fillmode": "overlay",
              "size": 10,
              "solidity": 0.2
             }
            },
            "type": "histogram"
           }
          ],
          "histogram2d": [
           {
            "colorbar": {
             "outlinewidth": 0,
             "ticks": ""
            },
            "colorscale": [
             [
              0,
              "#0d0887"
             ],
             [
              0.1111111111111111,
              "#46039f"
             ],
             [
              0.2222222222222222,
              "#7201a8"
             ],
             [
              0.3333333333333333,
              "#9c179e"
             ],
             [
              0.4444444444444444,
              "#bd3786"
             ],
             [
              0.5555555555555556,
              "#d8576b"
             ],
             [
              0.6666666666666666,
              "#ed7953"
             ],
             [
              0.7777777777777778,
              "#fb9f3a"
             ],
             [
              0.8888888888888888,
              "#fdca26"
             ],
             [
              1,
              "#f0f921"
             ]
            ],
            "type": "histogram2d"
           }
          ],
          "histogram2dcontour": [
           {
            "colorbar": {
             "outlinewidth": 0,
             "ticks": ""
            },
            "colorscale": [
             [
              0,
              "#0d0887"
             ],
             [
              0.1111111111111111,
              "#46039f"
             ],
             [
              0.2222222222222222,
              "#7201a8"
             ],
             [
              0.3333333333333333,
              "#9c179e"
             ],
             [
              0.4444444444444444,
              "#bd3786"
             ],
             [
              0.5555555555555556,
              "#d8576b"
             ],
             [
              0.6666666666666666,
              "#ed7953"
             ],
             [
              0.7777777777777778,
              "#fb9f3a"
             ],
             [
              0.8888888888888888,
              "#fdca26"
             ],
             [
              1,
              "#f0f921"
             ]
            ],
            "type": "histogram2dcontour"
           }
          ],
          "mesh3d": [
           {
            "colorbar": {
             "outlinewidth": 0,
             "ticks": ""
            },
            "type": "mesh3d"
           }
          ],
          "parcoords": [
           {
            "line": {
             "colorbar": {
              "outlinewidth": 0,
              "ticks": ""
             }
            },
            "type": "parcoords"
           }
          ],
          "pie": [
           {
            "automargin": true,
            "type": "pie"
           }
          ],
          "scatter": [
           {
            "fillpattern": {
             "fillmode": "overlay",
             "size": 10,
             "solidity": 0.2
            },
            "type": "scatter"
           }
          ],
          "scatter3d": [
           {
            "line": {
             "colorbar": {
              "outlinewidth": 0,
              "ticks": ""
             }
            },
            "marker": {
             "colorbar": {
              "outlinewidth": 0,
              "ticks": ""
             }
            },
            "type": "scatter3d"
           }
          ],
          "scattercarpet": [
           {
            "marker": {
             "colorbar": {
              "outlinewidth": 0,
              "ticks": ""
             }
            },
            "type": "scattercarpet"
           }
          ],
          "scattergeo": [
           {
            "marker": {
             "colorbar": {
              "outlinewidth": 0,
              "ticks": ""
             }
            },
            "type": "scattergeo"
           }
          ],
          "scattergl": [
           {
            "marker": {
             "colorbar": {
              "outlinewidth": 0,
              "ticks": ""
             }
            },
            "type": "scattergl"
           }
          ],
          "scattermapbox": [
           {
            "marker": {
             "colorbar": {
              "outlinewidth": 0,
              "ticks": ""
             }
            },
            "type": "scattermapbox"
           }
          ],
          "scatterpolar": [
           {
            "marker": {
             "colorbar": {
              "outlinewidth": 0,
              "ticks": ""
             }
            },
            "type": "scatterpolar"
           }
          ],
          "scatterpolargl": [
           {
            "marker": {
             "colorbar": {
              "outlinewidth": 0,
              "ticks": ""
             }
            },
            "type": "scatterpolargl"
           }
          ],
          "scatterternary": [
           {
            "marker": {
             "colorbar": {
              "outlinewidth": 0,
              "ticks": ""
             }
            },
            "type": "scatterternary"
           }
          ],
          "surface": [
           {
            "colorbar": {
             "outlinewidth": 0,
             "ticks": ""
            },
            "colorscale": [
             [
              0,
              "#0d0887"
             ],
             [
              0.1111111111111111,
              "#46039f"
             ],
             [
              0.2222222222222222,
              "#7201a8"
             ],
             [
              0.3333333333333333,
              "#9c179e"
             ],
             [
              0.4444444444444444,
              "#bd3786"
             ],
             [
              0.5555555555555556,
              "#d8576b"
             ],
             [
              0.6666666666666666,
              "#ed7953"
             ],
             [
              0.7777777777777778,
              "#fb9f3a"
             ],
             [
              0.8888888888888888,
              "#fdca26"
             ],
             [
              1,
              "#f0f921"
             ]
            ],
            "type": "surface"
           }
          ],
          "table": [
           {
            "cells": {
             "fill": {
              "color": "#EBF0F8"
             },
             "line": {
              "color": "white"
             }
            },
            "header": {
             "fill": {
              "color": "#C8D4E3"
             },
             "line": {
              "color": "white"
             }
            },
            "type": "table"
           }
          ]
         },
         "layout": {
          "annotationdefaults": {
           "arrowcolor": "#2a3f5f",
           "arrowhead": 0,
           "arrowwidth": 1
          },
          "autotypenumbers": "strict",
          "coloraxis": {
           "colorbar": {
            "outlinewidth": 0,
            "ticks": ""
           }
          },
          "colorscale": {
           "diverging": [
            [
             0,
             "#8e0152"
            ],
            [
             0.1,
             "#c51b7d"
            ],
            [
             0.2,
             "#de77ae"
            ],
            [
             0.3,
             "#f1b6da"
            ],
            [
             0.4,
             "#fde0ef"
            ],
            [
             0.5,
             "#f7f7f7"
            ],
            [
             0.6,
             "#e6f5d0"
            ],
            [
             0.7,
             "#b8e186"
            ],
            [
             0.8,
             "#7fbc41"
            ],
            [
             0.9,
             "#4d9221"
            ],
            [
             1,
             "#276419"
            ]
           ],
           "sequential": [
            [
             0,
             "#0d0887"
            ],
            [
             0.1111111111111111,
             "#46039f"
            ],
            [
             0.2222222222222222,
             "#7201a8"
            ],
            [
             0.3333333333333333,
             "#9c179e"
            ],
            [
             0.4444444444444444,
             "#bd3786"
            ],
            [
             0.5555555555555556,
             "#d8576b"
            ],
            [
             0.6666666666666666,
             "#ed7953"
            ],
            [
             0.7777777777777778,
             "#fb9f3a"
            ],
            [
             0.8888888888888888,
             "#fdca26"
            ],
            [
             1,
             "#f0f921"
            ]
           ],
           "sequentialminus": [
            [
             0,
             "#0d0887"
            ],
            [
             0.1111111111111111,
             "#46039f"
            ],
            [
             0.2222222222222222,
             "#7201a8"
            ],
            [
             0.3333333333333333,
             "#9c179e"
            ],
            [
             0.4444444444444444,
             "#bd3786"
            ],
            [
             0.5555555555555556,
             "#d8576b"
            ],
            [
             0.6666666666666666,
             "#ed7953"
            ],
            [
             0.7777777777777778,
             "#fb9f3a"
            ],
            [
             0.8888888888888888,
             "#fdca26"
            ],
            [
             1,
             "#f0f921"
            ]
           ]
          },
          "colorway": [
           "#636efa",
           "#EF553B",
           "#00cc96",
           "#ab63fa",
           "#FFA15A",
           "#19d3f3",
           "#FF6692",
           "#B6E880",
           "#FF97FF",
           "#FECB52"
          ],
          "font": {
           "color": "#2a3f5f"
          },
          "geo": {
           "bgcolor": "white",
           "lakecolor": "white",
           "landcolor": "#E5ECF6",
           "showlakes": true,
           "showland": true,
           "subunitcolor": "white"
          },
          "hoverlabel": {
           "align": "left"
          },
          "hovermode": "closest",
          "mapbox": {
           "style": "light"
          },
          "paper_bgcolor": "white",
          "plot_bgcolor": "#E5ECF6",
          "polar": {
           "angularaxis": {
            "gridcolor": "white",
            "linecolor": "white",
            "ticks": ""
           },
           "bgcolor": "#E5ECF6",
           "radialaxis": {
            "gridcolor": "white",
            "linecolor": "white",
            "ticks": ""
           }
          },
          "scene": {
           "xaxis": {
            "backgroundcolor": "#E5ECF6",
            "gridcolor": "white",
            "gridwidth": 2,
            "linecolor": "white",
            "showbackground": true,
            "ticks": "",
            "zerolinecolor": "white"
           },
           "yaxis": {
            "backgroundcolor": "#E5ECF6",
            "gridcolor": "white",
            "gridwidth": 2,
            "linecolor": "white",
            "showbackground": true,
            "ticks": "",
            "zerolinecolor": "white"
           },
           "zaxis": {
            "backgroundcolor": "#E5ECF6",
            "gridcolor": "white",
            "gridwidth": 2,
            "linecolor": "white",
            "showbackground": true,
            "ticks": "",
            "zerolinecolor": "white"
           }
          },
          "shapedefaults": {
           "line": {
            "color": "#2a3f5f"
           }
          },
          "ternary": {
           "aaxis": {
            "gridcolor": "white",
            "linecolor": "white",
            "ticks": ""
           },
           "baxis": {
            "gridcolor": "white",
            "linecolor": "white",
            "ticks": ""
           },
           "bgcolor": "#E5ECF6",
           "caxis": {
            "gridcolor": "white",
            "linecolor": "white",
            "ticks": ""
           }
          },
          "title": {
           "x": 0.05
          },
          "xaxis": {
           "automargin": true,
           "gridcolor": "white",
           "linecolor": "white",
           "ticks": "",
           "title": {
            "standoff": 15
           },
           "zerolinecolor": "white",
           "zerolinewidth": 2
          },
          "yaxis": {
           "automargin": true,
           "gridcolor": "white",
           "linecolor": "white",
           "ticks": "",
           "title": {
            "standoff": 15
           },
           "zerolinecolor": "white",
           "zerolinewidth": 2
          }
         }
        },
        "title": {
         "text": "Idle Histogram with stack"
        },
        "xaxis": {
         "anchor": "y",
         "domain": [
          0,
          1
         ],
         "range": [
          0,
          4500
         ],
         "title": {
          "text": "x"
         }
        },
        "yaxis": {
         "anchor": "x",
         "domain": [
          0,
          1
         ],
         "range": [
          0,
          300
         ],
         "title": {
          "text": "count"
         }
        }
       }
      },
      "text/html": [
       "<div>                            <div id=\"015cf751-464f-4755-a11b-36b8863a21d3\" class=\"plotly-graph-div\" style=\"height:525px; width:100%;\"></div>            <script type=\"text/javascript\">                require([\"plotly\"], function(Plotly) {                    window.PLOTLYENV=window.PLOTLYENV || {};                                    if (document.getElementById(\"015cf751-464f-4755-a11b-36b8863a21d3\")) {                    Plotly.newPlot(                        \"015cf751-464f-4755-a11b-36b8863a21d3\",                        [{\"alignmentgroup\":\"True\",\"bingroup\":\"x\",\"hovertemplate\":\"x=%{x}<br>count=%{y}<extra></extra>\",\"legendgroup\":\"\",\"marker\":{\"color\":\"#636efa\",\"pattern\":{\"shape\":\"\"}},\"name\":\"\",\"offsetgroup\":\"\",\"orientation\":\"v\",\"showlegend\":false,\"x\":[1.0,0.0,139.0,0.0,7.0,0.0,0.0,229.0,0.0,0.0,0.0,173.0,92.0,0.0,0.0,0.0,342.0,144.0,0.0,3.0,2.0,0.0,2.0,0.0,121.0,0.0,118.0,0.0,234.0,34.0,0.0,86.0,0.0,100.0,98.0,0.0,417.0,137.0,0.0,64.0,62.0,0.0,82.0,0.0,35.0,34.0,0.0,202.0,2.0,0.0,0.0,8.0,0.0,15.0,0.0,0.0,96.0,0.0,404.0,101.0,0.0,84.0,0.0,0.0,133.0,0.0,11.0,0.0,40.0,0.0,224.0,83.0,0.0,0.0,107.0,0.0,0.0,0.0,23.0,1.0,0.0,107.0,0.0,0.0,0.0,270.0,0.0,160.0,0.0,211.0,0.0,296.0,133.0,0.0,163.0,0.0,148.0,0.0,0.0,1.0,0.0,0.0,0.0,319.0,136.0,0.0,1.0,0.0,0.0,205.0,0.0,163.0,0.0,195.0,0.0,80.0,0.0,142.0,0.0,153.0,0.0,219.0,3.0,0.0,235.0,0.0,1.0,0.0,157.0,0.0,0.0,207.0,0.0,22.0,0.0,259.0,113.0,0.0,0.0,155.0,0.0,0.0,0.0,204.0,0.0,148.0,0.0,0.0,237.0,90.0,0.0,296.0,66.0,0.0,304.0,105.0,0.0,162.0,0.0,0.0,0.0,139.0,0.0,132.0,0.0,196.0,0.0,0.0,1.0,0.0,335.0,0.0,332.0,130.0,0.0,121.0,0.0,170.0,0.0,61.0,0.0,0.0,87.0,0.0,0.0,139.0,0.0,91.0,0.0,165.0,0.0,197.0,0.0,0.0,161.0,0.0,63.0,0.0,183.0,0.0,96.0,0.0,0.0,183.0,0.0,105.0,0.0,264.0,0.0,123.0,54.0,0.0,336.0,0.0,290.0,4.0,0.0,1.0,0.0,1.0,0.0,0.0,0.0,0.0,353.0,0.0,113.0,0.0,172.0,0.0,274.0,0.0,81.0,0.0,0.0,36.0,0.0,125.0,0.0,1.0,0.0,490.0,103.0,0.0,0.0,0.0,0.0,0.0,146.0,0.0,0.0,2.0,0.0,259.0,0.0,0.0,1.0,0.0,321.0,0.0,109.0,0.0,113.0,0.0,181.0,0.0,41.0,29.0,0.0,208.0,0.0,0.0,0.0,0.0,128.0,0.0,205.0,0.0,0.0,214.0,95.0,0.0,0.0,0.0,1.0,0.0,0.0,1.0,0.0,164.0,0.0,194.0,0.0,141.0,0.0,128.0,0.0,267.0,13.0,0.0,103.0,0.0,323.0,85.0,0.0,332.0,109.0,0.0,0.0,199.0,0.0,89.0,0.0,381.0,58.0,0.0,106.0,0.0,109.0,0.0,132.0,0.0,0.0,0.0,0.0,1.0,0.0,111.0,0.0,74.0,0.0,24.0,0.0,157.0,0.0,116.0,0.0,96.0,0.0,104.0,0.0,328.0,0.0,0.0,353.0,104.0,0.0,344.0,0.0,94.0,0.0,0.0,0.0,143.0,0.0,0.0,0.0,483.0,105.0,0.0,0.0,20.0,0.0,60.0,0.0,79.0,0.0,168.0,0.0,158.0,45.0,0.0,0.0,410.0,0.0,105.0,0.0,0.0,21.0,0.0,60.0,0.0,0.0,0.0,0.0,251.0,103.0,0.0,10.0,0.0,210.0,0.0,0.0,0.0,159.0,0.0,0.0,147.0,0.0,1.0,0.0,275.0,87.0,0.0,118.0,0.0,0.0,138.0,0.0,90.0,0.0,0.0,0.0,367.0,133.0,0.0,165.0,0.0,190.0,0.0,0.0,177.0,0.0,1.0,0.0,159.0,0.0,212.0,0.0,268.0,0.0,156.0,0.0,150.0,3.0,0.0,251.0,0.0,0.0,337.0,0.0,98.0,0.0,248.0,0.0,198.0,0.0,83.0,0.0,0.0,0.0,374.0,112.0,0.0,1.0,0.0,173.0,0.0,0.0,0.0,0.0,1.0,0.0,3.0,0.0,199.0,0.0,127.0,0.0,227.0,0.0,229.0,0.0,3.0,0.0,86.0,85.0,0.0,0.0,114.0,0.0,82.0,0.0,275.0,137.0,0.0,168.0,0.0,153.0,0.0,361.0,34.0,0.0,0.0,12.0,0.0,163.0,0.0,248.0,0.0,37.0,37.0,0.0,0.0,76.0,0.0,262.0,124.0,0.0,324.0,122.0,0.0,383.0,0.0,0.0,0.0,275.0,0.0,137.0,0.0,0.0,142.0,0.0,180.0,0.0,0.0,202.0,0.0,0.0,0.0,0.0],\"xaxis\":\"x\",\"yaxis\":\"y\",\"type\":\"histogram\"}],                        {\"template\":{\"data\":{\"histogram2dcontour\":[{\"type\":\"histogram2dcontour\",\"colorbar\":{\"outlinewidth\":0,\"ticks\":\"\"},\"colorscale\":[[0.0,\"#0d0887\"],[0.1111111111111111,\"#46039f\"],[0.2222222222222222,\"#7201a8\"],[0.3333333333333333,\"#9c179e\"],[0.4444444444444444,\"#bd3786\"],[0.5555555555555556,\"#d8576b\"],[0.6666666666666666,\"#ed7953\"],[0.7777777777777778,\"#fb9f3a\"],[0.8888888888888888,\"#fdca26\"],[1.0,\"#f0f921\"]]}],\"choropleth\":[{\"type\":\"choropleth\",\"colorbar\":{\"outlinewidth\":0,\"ticks\":\"\"}}],\"histogram2d\":[{\"type\":\"histogram2d\",\"colorbar\":{\"outlinewidth\":0,\"ticks\":\"\"},\"colorscale\":[[0.0,\"#0d0887\"],[0.1111111111111111,\"#46039f\"],[0.2222222222222222,\"#7201a8\"],[0.3333333333333333,\"#9c179e\"],[0.4444444444444444,\"#bd3786\"],[0.5555555555555556,\"#d8576b\"],[0.6666666666666666,\"#ed7953\"],[0.7777777777777778,\"#fb9f3a\"],[0.8888888888888888,\"#fdca26\"],[1.0,\"#f0f921\"]]}],\"heatmap\":[{\"type\":\"heatmap\",\"colorbar\":{\"outlinewidth\":0,\"ticks\":\"\"},\"colorscale\":[[0.0,\"#0d0887\"],[0.1111111111111111,\"#46039f\"],[0.2222222222222222,\"#7201a8\"],[0.3333333333333333,\"#9c179e\"],[0.4444444444444444,\"#bd3786\"],[0.5555555555555556,\"#d8576b\"],[0.6666666666666666,\"#ed7953\"],[0.7777777777777778,\"#fb9f3a\"],[0.8888888888888888,\"#fdca26\"],[1.0,\"#f0f921\"]]}],\"heatmapgl\":[{\"type\":\"heatmapgl\",\"colorbar\":{\"outlinewidth\":0,\"ticks\":\"\"},\"colorscale\":[[0.0,\"#0d0887\"],[0.1111111111111111,\"#46039f\"],[0.2222222222222222,\"#7201a8\"],[0.3333333333333333,\"#9c179e\"],[0.4444444444444444,\"#bd3786\"],[0.5555555555555556,\"#d8576b\"],[0.6666666666666666,\"#ed7953\"],[0.7777777777777778,\"#fb9f3a\"],[0.8888888888888888,\"#fdca26\"],[1.0,\"#f0f921\"]]}],\"contourcarpet\":[{\"type\":\"contourcarpet\",\"colorbar\":{\"outlinewidth\":0,\"ticks\":\"\"}}],\"contour\":[{\"type\":\"contour\",\"colorbar\":{\"outlinewidth\":0,\"ticks\":\"\"},\"colorscale\":[[0.0,\"#0d0887\"],[0.1111111111111111,\"#46039f\"],[0.2222222222222222,\"#7201a8\"],[0.3333333333333333,\"#9c179e\"],[0.4444444444444444,\"#bd3786\"],[0.5555555555555556,\"#d8576b\"],[0.6666666666666666,\"#ed7953\"],[0.7777777777777778,\"#fb9f3a\"],[0.8888888888888888,\"#fdca26\"],[1.0,\"#f0f921\"]]}],\"surface\":[{\"type\":\"surface\",\"colorbar\":{\"outlinewidth\":0,\"ticks\":\"\"},\"colorscale\":[[0.0,\"#0d0887\"],[0.1111111111111111,\"#46039f\"],[0.2222222222222222,\"#7201a8\"],[0.3333333333333333,\"#9c179e\"],[0.4444444444444444,\"#bd3786\"],[0.5555555555555556,\"#d8576b\"],[0.6666666666666666,\"#ed7953\"],[0.7777777777777778,\"#fb9f3a\"],[0.8888888888888888,\"#fdca26\"],[1.0,\"#f0f921\"]]}],\"mesh3d\":[{\"type\":\"mesh3d\",\"colorbar\":{\"outlinewidth\":0,\"ticks\":\"\"}}],\"scatter\":[{\"fillpattern\":{\"fillmode\":\"overlay\",\"size\":10,\"solidity\":0.2},\"type\":\"scatter\"}],\"parcoords\":[{\"type\":\"parcoords\",\"line\":{\"colorbar\":{\"outlinewidth\":0,\"ticks\":\"\"}}}],\"scatterpolargl\":[{\"type\":\"scatterpolargl\",\"marker\":{\"colorbar\":{\"outlinewidth\":0,\"ticks\":\"\"}}}],\"bar\":[{\"error_x\":{\"color\":\"#2a3f5f\"},\"error_y\":{\"color\":\"#2a3f5f\"},\"marker\":{\"line\":{\"color\":\"#E5ECF6\",\"width\":0.5},\"pattern\":{\"fillmode\":\"overlay\",\"size\":10,\"solidity\":0.2}},\"type\":\"bar\"}],\"scattergeo\":[{\"type\":\"scattergeo\",\"marker\":{\"colorbar\":{\"outlinewidth\":0,\"ticks\":\"\"}}}],\"scatterpolar\":[{\"type\":\"scatterpolar\",\"marker\":{\"colorbar\":{\"outlinewidth\":0,\"ticks\":\"\"}}}],\"histogram\":[{\"marker\":{\"pattern\":{\"fillmode\":\"overlay\",\"size\":10,\"solidity\":0.2}},\"type\":\"histogram\"}],\"scattergl\":[{\"type\":\"scattergl\",\"marker\":{\"colorbar\":{\"outlinewidth\":0,\"ticks\":\"\"}}}],\"scatter3d\":[{\"type\":\"scatter3d\",\"line\":{\"colorbar\":{\"outlinewidth\":0,\"ticks\":\"\"}},\"marker\":{\"colorbar\":{\"outlinewidth\":0,\"ticks\":\"\"}}}],\"scattermapbox\":[{\"type\":\"scattermapbox\",\"marker\":{\"colorbar\":{\"outlinewidth\":0,\"ticks\":\"\"}}}],\"scatterternary\":[{\"type\":\"scatterternary\",\"marker\":{\"colorbar\":{\"outlinewidth\":0,\"ticks\":\"\"}}}],\"scattercarpet\":[{\"type\":\"scattercarpet\",\"marker\":{\"colorbar\":{\"outlinewidth\":0,\"ticks\":\"\"}}}],\"carpet\":[{\"aaxis\":{\"endlinecolor\":\"#2a3f5f\",\"gridcolor\":\"white\",\"linecolor\":\"white\",\"minorgridcolor\":\"white\",\"startlinecolor\":\"#2a3f5f\"},\"baxis\":{\"endlinecolor\":\"#2a3f5f\",\"gridcolor\":\"white\",\"linecolor\":\"white\",\"minorgridcolor\":\"white\",\"startlinecolor\":\"#2a3f5f\"},\"type\":\"carpet\"}],\"table\":[{\"cells\":{\"fill\":{\"color\":\"#EBF0F8\"},\"line\":{\"color\":\"white\"}},\"header\":{\"fill\":{\"color\":\"#C8D4E3\"},\"line\":{\"color\":\"white\"}},\"type\":\"table\"}],\"barpolar\":[{\"marker\":{\"line\":{\"color\":\"#E5ECF6\",\"width\":0.5},\"pattern\":{\"fillmode\":\"overlay\",\"size\":10,\"solidity\":0.2}},\"type\":\"barpolar\"}],\"pie\":[{\"automargin\":true,\"type\":\"pie\"}]},\"layout\":{\"autotypenumbers\":\"strict\",\"colorway\":[\"#636efa\",\"#EF553B\",\"#00cc96\",\"#ab63fa\",\"#FFA15A\",\"#19d3f3\",\"#FF6692\",\"#B6E880\",\"#FF97FF\",\"#FECB52\"],\"font\":{\"color\":\"#2a3f5f\"},\"hovermode\":\"closest\",\"hoverlabel\":{\"align\":\"left\"},\"paper_bgcolor\":\"white\",\"plot_bgcolor\":\"#E5ECF6\",\"polar\":{\"bgcolor\":\"#E5ECF6\",\"angularaxis\":{\"gridcolor\":\"white\",\"linecolor\":\"white\",\"ticks\":\"\"},\"radialaxis\":{\"gridcolor\":\"white\",\"linecolor\":\"white\",\"ticks\":\"\"}},\"ternary\":{\"bgcolor\":\"#E5ECF6\",\"aaxis\":{\"gridcolor\":\"white\",\"linecolor\":\"white\",\"ticks\":\"\"},\"baxis\":{\"gridcolor\":\"white\",\"linecolor\":\"white\",\"ticks\":\"\"},\"caxis\":{\"gridcolor\":\"white\",\"linecolor\":\"white\",\"ticks\":\"\"}},\"coloraxis\":{\"colorbar\":{\"outlinewidth\":0,\"ticks\":\"\"}},\"colorscale\":{\"sequential\":[[0.0,\"#0d0887\"],[0.1111111111111111,\"#46039f\"],[0.2222222222222222,\"#7201a8\"],[0.3333333333333333,\"#9c179e\"],[0.4444444444444444,\"#bd3786\"],[0.5555555555555556,\"#d8576b\"],[0.6666666666666666,\"#ed7953\"],[0.7777777777777778,\"#fb9f3a\"],[0.8888888888888888,\"#fdca26\"],[1.0,\"#f0f921\"]],\"sequentialminus\":[[0.0,\"#0d0887\"],[0.1111111111111111,\"#46039f\"],[0.2222222222222222,\"#7201a8\"],[0.3333333333333333,\"#9c179e\"],[0.4444444444444444,\"#bd3786\"],[0.5555555555555556,\"#d8576b\"],[0.6666666666666666,\"#ed7953\"],[0.7777777777777778,\"#fb9f3a\"],[0.8888888888888888,\"#fdca26\"],[1.0,\"#f0f921\"]],\"diverging\":[[0,\"#8e0152\"],[0.1,\"#c51b7d\"],[0.2,\"#de77ae\"],[0.3,\"#f1b6da\"],[0.4,\"#fde0ef\"],[0.5,\"#f7f7f7\"],[0.6,\"#e6f5d0\"],[0.7,\"#b8e186\"],[0.8,\"#7fbc41\"],[0.9,\"#4d9221\"],[1,\"#276419\"]]},\"xaxis\":{\"gridcolor\":\"white\",\"linecolor\":\"white\",\"ticks\":\"\",\"title\":{\"standoff\":15},\"zerolinecolor\":\"white\",\"automargin\":true,\"zerolinewidth\":2},\"yaxis\":{\"gridcolor\":\"white\",\"linecolor\":\"white\",\"ticks\":\"\",\"title\":{\"standoff\":15},\"zerolinecolor\":\"white\",\"automargin\":true,\"zerolinewidth\":2},\"scene\":{\"xaxis\":{\"backgroundcolor\":\"#E5ECF6\",\"gridcolor\":\"white\",\"linecolor\":\"white\",\"showbackground\":true,\"ticks\":\"\",\"zerolinecolor\":\"white\",\"gridwidth\":2},\"yaxis\":{\"backgroundcolor\":\"#E5ECF6\",\"gridcolor\":\"white\",\"linecolor\":\"white\",\"showbackground\":true,\"ticks\":\"\",\"zerolinecolor\":\"white\",\"gridwidth\":2},\"zaxis\":{\"backgroundcolor\":\"#E5ECF6\",\"gridcolor\":\"white\",\"linecolor\":\"white\",\"showbackground\":true,\"ticks\":\"\",\"zerolinecolor\":\"white\",\"gridwidth\":2}},\"shapedefaults\":{\"line\":{\"color\":\"#2a3f5f\"}},\"annotationdefaults\":{\"arrowcolor\":\"#2a3f5f\",\"arrowhead\":0,\"arrowwidth\":1},\"geo\":{\"bgcolor\":\"white\",\"landcolor\":\"#E5ECF6\",\"subunitcolor\":\"white\",\"showland\":true,\"showlakes\":true,\"lakecolor\":\"white\"},\"title\":{\"x\":0.05},\"mapbox\":{\"style\":\"light\"}}},\"xaxis\":{\"anchor\":\"y\",\"domain\":[0.0,1.0],\"title\":{\"text\":\"x\"},\"range\":[0,4500]},\"yaxis\":{\"anchor\":\"x\",\"domain\":[0.0,1.0],\"title\":{\"text\":\"count\"},\"range\":[0,300]},\"legend\":{\"tracegroupgap\":0},\"title\":{\"text\":\"Idle Histogram with stack\"},\"barmode\":\"relative\"},                        {\"responsive\": true}                    ).then(function(){\n",
       "                            \n",
       "var gd = document.getElementById('015cf751-464f-4755-a11b-36b8863a21d3');\n",
       "var x = new MutationObserver(function (mutations, observer) {{\n",
       "        var display = window.getComputedStyle(gd).display;\n",
       "        if (!display || display === 'none') {{\n",
       "            console.log([gd, 'removed!']);\n",
       "            Plotly.purge(gd);\n",
       "            observer.disconnect();\n",
       "        }}\n",
       "}});\n",
       "\n",
       "// Listen for the removal of the full notebook cells\n",
       "var notebookContainer = gd.closest('#notebook-container');\n",
       "if (notebookContainer) {{\n",
       "    x.observe(notebookContainer, {childList: true});\n",
       "}}\n",
       "\n",
       "// Listen for the clearing of the current output cell\n",
       "var outputEl = gd.closest('.output');\n",
       "if (outputEl) {{\n",
       "    x.observe(outputEl, {childList: true});\n",
       "}}\n",
       "\n",
       "                        })                };                });            </script>        </div>"
      ]
     },
     "metadata": {},
     "output_type": "display_data"
    }
   ],
   "source": [
    "fig = px.histogram(x=waiting_list_times, title=\"Idle Histogram with stack\")\n",
    "fig.update_layout(yaxis_range=[0,300],xaxis_range=[0,4500])\n",
    "fig.show()"
   ]
  },
  {
   "cell_type": "code",
   "execution_count": 52,
   "id": "1de5818e",
   "metadata": {},
   "outputs": [
    {
     "data": {
      "text/plain": [
       "66.41619585687383"
      ]
     },
     "execution_count": 52,
     "metadata": {},
     "output_type": "execute_result"
    }
   ],
   "source": [
    "sum(waiting_list_times)/len(waiting_list_times)"
   ]
  },
  {
   "cell_type": "code",
   "execution_count": null,
   "id": "aab6b005",
   "metadata": {},
   "outputs": [],
   "source": []
  }
 ],
 "metadata": {
  "kernelspec": {
   "display_name": "Python 3 (ipykernel)",
   "language": "python",
   "name": "python3"
  },
  "language_info": {
   "codemirror_mode": {
    "name": "ipython",
    "version": 3
   },
   "file_extension": ".py",
   "mimetype": "text/x-python",
   "name": "python",
   "nbconvert_exporter": "python",
   "pygments_lexer": "ipython3",
   "version": "3.8.10"
  }
 },
 "nbformat": 4,
 "nbformat_minor": 5
}
